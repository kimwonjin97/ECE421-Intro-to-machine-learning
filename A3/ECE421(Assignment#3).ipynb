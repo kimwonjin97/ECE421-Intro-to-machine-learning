{
 "cells": [
  {
   "cell_type": "markdown",
   "metadata": {},
   "source": [
    "# ECE421 Assignment #3"
   ]
  },
  {
   "cell_type": "code",
   "execution_count": 274,
   "metadata": {},
   "outputs": [],
   "source": [
    "\n",
    "from sklearn.datasets import load_iris\n",
    "from sklearn.model_selection import train_test_split\n",
    "from sklearn.svm import SVC\n",
    "from sklearn.linear_model import LogisticRegression \n",
    "from sklearn.metrics import accuracy_score\n",
    "import matplotlib.pyplot as plt\n",
    "import matplotlib as mpl\n",
    "from matplotlib.colors import ListedColormap\n",
    "from matplotlib.colors import colorConverter\n",
    "\n",
    "import numpy as np\n"
   ]
  },
  {
   "cell_type": "markdown",
   "metadata": {},
   "source": [
    "1.  (2 points)  Implement a binary linear classifier on the first two dimensions (sepal lengthand width) of the iris dataset and plot its decision boundary.  (Hint:  sklearn refers tothe binary linear classifier as a LogisticRegression, we will see why later in the course.)"
   ]
  },
  {
   "cell_type": "code",
   "execution_count": 275,
   "metadata": {},
   "outputs": [],
   "source": [
    "def plot_binary_classification(classifier, X, y, ax=None, alpha=1):\n",
    "    markers = ('o', 'x')\n",
    "    colors = ('r', 'b')\n",
    "    cmap = ListedColormap(colors[:len(np.unique(y))])\n",
    "\n",
    "    if ax is None:\n",
    "        ax = plt.gca()\n",
    "\n",
    "    x_min, x_max = X[:, 0].min() - 1, X[:, 0].max() + 1\n",
    "    y_min, y_max = X[:, 1].min() - 1, X[:, 1].max() + 1\n",
    "\n",
    "    xx = np.linspace(x_min, x_max, 1000)\n",
    "    yy = np.linspace(y_min, y_max, 1000)\n",
    "    XX, YY = np.meshgrid(xx, yy)\n",
    "    xy = np.array([XX.ravel(), YY.ravel()]).T\n",
    "    Z = classifier.decision_function(xy).reshape(XX.shape)\n",
    "\n",
    "    for idx, cl in enumerate(np.unique(y)): \n",
    "       plt.scatter(x=X[y==cl, 0], y=X[y==cl, 1], c=cmap(idx), marker=markers[idx], label=cl)\n",
    "\n",
    "    # b = classifier.intercept_[0]\n",
    "    # w1, w2 = classifier.coef_.T\n",
    "    # c = -b/w2\n",
    "    # m = -w1/w2\n",
    "    # y_decision_b = m*X[:, 0] + c\n",
    "    # ax.plot(X[:,0], y_decision_b, 'k', lw=1 )\n",
    "    ax.contour(XX, YY, Z, colors='k', levels=[0], alpha=0.5,\n",
    "            linestyles=['-'])\n",
    "              \n",
    "    ax.set_xlim(x_min, x_max)\n",
    "    ax.set_ylim(y_min, y_max)\n",
    "    ax.set_xticks(())\n",
    "    ax.set_yticks(())\n"
   ]
  },
  {
   "cell_type": "code",
   "execution_count": 276,
   "metadata": {},
   "outputs": [
    {
     "name": "stderr",
     "output_type": "stream",
     "text": [
      "*c* argument looks like a single numeric RGB or RGBA sequence, which should be avoided as value-mapping will have precedence in case its length matches with *x* & *y*.  Please use the *color* keyword-argument or provide a 2-D array with a single row if you intend to specify the same RGB or RGBA value for all points.\n",
      "*c* argument looks like a single numeric RGB or RGBA sequence, which should be avoided as value-mapping will have precedence in case its length matches with *x* & *y*.  Please use the *color* keyword-argument or provide a 2-D array with a single row if you intend to specify the same RGB or RGBA value for all points.\n"
     ]
    },
    {
     "data": {
      "image/png": "[encoded data removed]",
      "text/plain": [
       "<Figure size 576x360 with 1 Axes>"
      ]
     },
     "metadata": {},
     "output_type": "display_data"
    }
   ],
   "source": [
    "iris = load_iris()\n",
    "\n",
    "# use frist 100 entries\n",
    "x = iris['data'][:100, :2]\n",
    "y = iris['target'][:100]\n",
    "\n",
    "trainX, testX, trainY, testY = train_test_split(x, y, test_size=0.8, random_state=0)\n",
    "\n",
    "logR_model = LogisticRegression(random_state=0)\n",
    "logR_model.fit(trainX, trainY)\n",
    "\n",
    "plt.figure(figsize=(8, 5))\n",
    "plot_binary_classification(logR_model, trainX, trainY, alpha=0.2)\n",
    "plt.legend()\n",
    "plt.xlabel('sepal length')\n",
    "plt.ylabel('sepal width')\n",
    "plt.show()"
   ]
  },
  {
   "cell_type": "markdown",
   "metadata": {},
   "source": [
    "2.  (1 point)  Report the accuracy of your binary linear classifier on both the training andtest sets."
   ]
  },
  {
   "cell_type": "code",
   "execution_count": 277,
   "metadata": {},
   "outputs": [
    {
     "name": "stdout",
     "output_type": "stream",
     "text": [
      "Accuracy on training dataset  = 1.00\n",
      "Accuracy on test dataset = 0.99\n"
     ]
    }
   ],
   "source": [
    "print('Accuracy on training dataset  = %.2f' % logR_model.score(trainX, trainY))\n",
    "print('Accuracy on test dataset = %.2f' % logR_model.score(testX, testY))"
   ]
  },
  {
   "cell_type": "markdown",
   "metadata": {},
   "source": [
    "3.  (2 points)  Implement a linear SVM classifier on the first two dimensions (sepal lengthand width).  Plot the decision boundary of the classifier and its margins."
   ]
  },
  {
   "cell_type": "code",
   "execution_count": 278,
   "metadata": {},
   "outputs": [],
   "source": [
    "def plot_svm(classifier, X, y, ax=None, alpha=1):\n",
    "    markers = ('o', 'x')\n",
    "    colors = ('r', 'b','g')\n",
    "    cmap = ListedColormap(colors[:len(np.unique(y))])\n",
    "\n",
    "    if ax is None:\n",
    "        ax = plt.gca()\n",
    "\n",
    "    x_min, x_max = X[:, 0].min() - 1, X[:, 0].max() + 1\n",
    "   \n",
    "    y_min, y_max = X[:, 1].min() - 1, X[:, 1].max() + 1\n",
    "\n",
    "    xx = np.linspace(x_min, x_max, 1000)\n",
    "    yy = np.linspace(y_min, y_max, 1000)\n",
    "    XX, YY = np.meshgrid(xx, yy)\n",
    "    xy = np.array([XX.ravel(), YY.ravel()]).T\n",
    "    Z = classifier.decision_function(xy).reshape(XX.shape)\n",
    "\n",
    "    for idx, cl in enumerate(np.unique(y)): \n",
    "  \n",
    "       plt.scatter(x=X[y==cl, 0], y=X[y==cl, 1], c=cmap(idx), marker=markers[idx], label=cl)\n",
    "    \n",
    "    ax.contour(XX, YY, Z, colors='k', levels=[-1, 0, 1], alpha=0.5,\n",
    "           linestyles=['--', '-', '--'])\n",
    "    \n",
    "    ax.scatter(classifier.support_vectors_[:, 0], classifier.support_vectors_[:, 1], s=100,\n",
    "           linewidth=1, facecolors='none', edgecolors='k')\n",
    "              \n",
    "    ax.set_xlim(x_min, x_max)\n",
    "    ax.set_ylim(y_min, y_max)\n",
    "    ax.set_xticks(())\n",
    "    ax.set_yticks(())\n"
   ]
  },
  {
   "cell_type": "code",
   "execution_count": 279,
   "metadata": {},
   "outputs": [
    {
     "name": "stderr",
     "output_type": "stream",
     "text": [
      "*c* argument looks like a single numeric RGB or RGBA sequence, which should be avoided as value-mapping will have precedence in case its length matches with *x* & *y*.  Please use the *color* keyword-argument or provide a 2-D array with a single row if you intend to specify the same RGB or RGBA value for all points.\n",
      "*c* argument looks like a single numeric RGB or RGBA sequence, which should be avoided as value-mapping will have precedence in case its length matches with *x* & *y*.  Please use the *color* keyword-argument or provide a 2-D array with a single row if you intend to specify the same RGB or RGBA value for all points.\n"
     ]
    },
    {
     "data": {
      "image/png": "[encoded data removed]",
      "text/plain": [
       "<Figure size 576x360 with 1 Axes>"
      ]
     },
     "metadata": {},
     "output_type": "display_data"
    }
   ],
   "source": [
    "svm = SVC(kernel='linear', C=float('inf'))\n",
    "svm.fit(trainX, trainY)\n",
    "\n",
    "plt.figure(figsize=(8, 5))\n",
    "plot_svm(svm, trainX, trainY, alpha=0.1)\n",
    "\n",
    "plt.legend()\n",
    "plt.xlabel('sepal length')\n",
    "plt.ylabel('sepal width')\n",
    "plt.show()"
   ]
  },
  {
   "cell_type": "markdown",
   "metadata": {},
   "source": [
    "4.  (1 point)  Circle the support vectors.  Please justify how to identify them through the duality theorem.  (hint:  KKT condition)"
   ]
  },
  {
   "cell_type": "markdown",
   "metadata": {},
   "source": [
    "The support vectors are identified by solving dual problem induced from lagrangian equation. As of in this case if we are at the global optimum, according to KKT condition, strong duality holds, and they are also follows primal feasibility, dual feasibility, complemantary slackness, zero derivative. "
   ]
  },
  {
   "cell_type": "markdown",
   "metadata": {},
   "source": [
    "5.  (1 point)  Report the accuracy of your linear SVM classifier on both the training andtest sets."
   ]
  },
  {
   "cell_type": "code",
   "execution_count": 280,
   "metadata": {},
   "outputs": [
    {
     "name": "stdout",
     "output_type": "stream",
     "text": [
      "Accuracy on training datatset = 1.00\n",
      "Accuracy on test dataset = 1.00\n"
     ]
    }
   ],
   "source": [
    "print('Accuracy on training datatset = %.2f' % svm.score(trainX, trainY))\n",
    "print('Accuracy on test dataset = %.2f' % svm.score(testX, testY))\n"
   ]
  },
  {
   "cell_type": "markdown",
   "metadata": {},
   "source": [
    "6.  (1 point)  What is the value of the margin?  Justify your answer."
   ]
  },
  {
   "cell_type": "code",
   "execution_count": 281,
   "metadata": {},
   "outputs": [
    {
     "name": "stdout",
     "output_type": "stream",
     "text": [
      "Value of margin = 0.42\n"
     ]
    }
   ],
   "source": [
    "value_of_margin = 2*(1 / np.sqrt(np.sum(svm.coef_ ** 2)))\n",
    "print('Value of margin = %.2f' % value_of_margin)"
   ]
  },
  {
   "cell_type": "markdown",
   "metadata": {},
   "source": [
    "As learnt from the class, for maximum margin hyperplane with no slack variable present, the value of margin equals to 2 times one over the norm of the weight vectors. (2/||w||)"
   ]
  },
  {
   "cell_type": "markdown",
   "metadata": {},
   "source": [
    "7.  (1 point)  Which vector is orthogonal to the decision boundary?"
   ]
  },
  {
   "cell_type": "markdown",
   "metadata": {},
   "source": [
    "The weight vectors w  is orthogonal to the decision boundary"
   ]
  },
  {
   "cell_type": "code",
   "execution_count": 282,
   "metadata": {},
   "outputs": [
    {
     "name": "stdout",
     "output_type": "stream",
     "text": [
      "[[ 3.33266363]\n",
      " [-3.33342658]]\n"
     ]
    }
   ],
   "source": [
    "weight_v = svm.coef_.T\n",
    "print(weight_v)"
   ]
  },
  {
   "cell_type": "markdown",
   "metadata": {},
   "source": [
    "8.  (3 points)  Split the iris dataset again in a training and test set, this time setting testsizeto 0.4 when calling traintestsplit.  Train the SVM classifier again.  Does the decisionboundary change?  How about the test accuracy?  Please justify why (hint:  think aboutthe support vectors), and illustrate your argument with a new plot."
   ]
  },
  {
   "cell_type": "code",
   "execution_count": 283,
   "metadata": {},
   "outputs": [
    {
     "name": "stderr",
     "output_type": "stream",
     "text": [
      "*c* argument looks like a single numeric RGB or RGBA sequence, which should be avoided as value-mapping will have precedence in case its length matches with *x* & *y*.  Please use the *color* keyword-argument or provide a 2-D array with a single row if you intend to specify the same RGB or RGBA value for all points.\n",
      "*c* argument looks like a single numeric RGB or RGBA sequence, which should be avoided as value-mapping will have precedence in case its length matches with *x* & *y*.  Please use the *color* keyword-argument or provide a 2-D array with a single row if you intend to specify the same RGB or RGBA value for all points.\n"
     ]
    },
    {
     "data": {
      "image/png": "[encoded data removed]",
      "text/plain": [
       "<Figure size 576x360 with 1 Axes>"
      ]
     },
     "metadata": {},
     "output_type": "display_data"
    },
    {
     "name": "stdout",
     "output_type": "stream",
     "text": [
      "Accuracy on training datatset = 1.00\n",
      "Accuracy on test dataset = 1.00\n",
      "[[ 6.31804679]\n",
      " [-5.26503723]]\n"
     ]
    }
   ],
   "source": [
    "# iris = load_iris()\n",
    "\n",
    "# # use frist 100 entries\n",
    "# x = iris['data'][:100, :2]\n",
    "# y = iris['target'][:100]\n",
    "\n",
    "trainX_2, testX_2, trainY_2, testY_2 = train_test_split(x, y, test_size=0.4, random_state=0)\n",
    "\n",
    "svm = SVC(kernel='linear', C=float('inf'))\n",
    "svm.fit(trainX_2, trainY_2)\n",
    "\n",
    "plt.figure(figsize=(8, 5))\n",
    "plot_svm(svm, trainX_2, trainY_2, alpha=0.1)\n",
    "\n",
    "plt.legend()\n",
    "plt.xlabel('sepal length')\n",
    "plt.ylabel('sepal width')\n",
    "plt.show()\n",
    "\n",
    "print('Accuracy on training datatset = %.2f' % svm.score(trainX_2, trainY_2))\n",
    "print('Accuracy on test dataset = %.2f' % svm.score(testX_2, testY_2))\n",
    "weight_v = svm.coef_.T\n",
    "print(weight_v)\n"
   ]
  },
  {
   "cell_type": "markdown",
   "metadata": {},
   "source": [
    "As you could see from the example above the decision boundary has changed as we increase the number of training example. This is because more points where considered when deciding the margin boundary and as the results few points within the marginal boundary has changed the result of decision boundary."
   ]
  },
  {
   "cell_type": "markdown",
   "metadata": {},
   "source": [
    "9.  (1 point)  Do the binary linear classifier and SVM have the same decision boundaries?"
   ]
  },
  {
   "cell_type": "code",
   "execution_count": 284,
   "metadata": {},
   "outputs": [
    {
     "name": "stdout",
     "output_type": "stream",
     "text": [
      "[1.80226162] [-1.24492959]\n"
     ]
    }
   ],
   "source": [
    "b = logR_model.intercept_[0]\n",
    "w1_l, w2_l = logR_model.coef_.T\n",
    "print(w1_l, w2_l)"
   ]
  },
  {
   "cell_type": "markdown",
   "metadata": {},
   "source": [
    "Linear classifier and svm has different decision boundaries"
   ]
  },
  {
   "cell_type": "markdown",
   "metadata": {},
   "source": [
    "10.  (3 points)  Now consider all 150 entries in the iris dataset,  and retrain the SVM. Youshould find that the data points are not linearly separable.  How can you deal with it?Justify your answer and plot the decision boundary of your new proposed classifier."
   ]
  },
  {
   "cell_type": "code",
   "execution_count": 288,
   "metadata": {},
   "outputs": [],
   "source": [
    "def plot_svm_2(classifier, X, y, ax=None, alpha=1):\n",
    "    markers = ('o', 'x', ',')\n",
    "    colors = ('r', 'b','g', 'w')\n",
    "    cmap = ListedColormap(colors[:len(np.unique(y))])\n",
    "\n",
    "    if ax is None:\n",
    "        ax = plt.gca()\n",
    "\n",
    "    x_min, x_max = X[:, 0].min() - 1, X[:, 0].max() + 1\n",
    "   \n",
    "    y_min, y_max = X[:, 1].min() - 1, X[:, 1].max() + 1\n",
    "\n",
    "    xx = np.linspace(x_min, x_max, 1000)\n",
    "    yy = np.linspace(y_min, y_max, 1000)\n",
    "    XX, YY = np.meshgrid(xx, yy)\n",
    "    xy = np.array([XX.ravel(), YY.ravel()]).T\n",
    "\n",
    "    for idx, cl in enumerate(np.unique(y)): \n",
    "       plt.scatter(x=X[y==cl, 0], y=X[y==cl, 1], c=cmap(idx), marker=markers[idx], label=cl)\n",
    "    \n",
    "    ax.scatter(classifier.support_vectors_[:, 0], classifier.support_vectors_[:, 1], s=100,\n",
    "           linewidth=1, facecolors='none', edgecolors='k')\n",
    "              \n",
    "    ax.set_xlim(x_min, x_max)\n",
    "    ax.set_ylim(y_min, y_max)\n",
    "    ax.set_xticks(())\n",
    "    ax.set_yticks(())\n"
   ]
  },
  {
   "cell_type": "code",
   "execution_count": 289,
   "metadata": {},
   "outputs": [
    {
     "name": "stderr",
     "output_type": "stream",
     "text": [
      "*c* argument looks like a single numeric RGB or RGBA sequence, which should be avoided as value-mapping will have precedence in case its length matches with *x* & *y*.  Please use the *color* keyword-argument or provide a 2-D array with a single row if you intend to specify the same RGB or RGBA value for all points.\n",
      "*c* argument looks like a single numeric RGB or RGBA sequence, which should be avoided as value-mapping will have precedence in case its length matches with *x* & *y*.  Please use the *color* keyword-argument or provide a 2-D array with a single row if you intend to specify the same RGB or RGBA value for all points.\n",
      "*c* argument looks like a single numeric RGB or RGBA sequence, which should be avoided as value-mapping will have precedence in case its length matches with *x* & *y*.  Please use the *color* keyword-argument or provide a 2-D array with a single row if you intend to specify the same RGB or RGBA value for all points.\n"
     ]
    },
    {
     "data": {
      "image/png": "[encoded data removed]",
      "text/plain": [
       "<Figure size 576x360 with 1 Axes>"
      ]
     },
     "metadata": {},
     "output_type": "display_data"
    },
    {
     "name": "stdout",
     "output_type": "stream",
     "text": [
      "Accuracy on training datatset = 0.86\n",
      "Accuracy on test dataset = 0.72\n"
     ]
    }
   ],
   "source": [
    "# iris = load_iris()\n",
    "\n",
    "# # use frist 100 entries\n",
    "x_new = iris['data'][:, :2]\n",
    "y_new = iris['target']\n",
    "\n",
    "trainX_3, testX_3, trainY_3, testY_3 = train_test_split(x_new, y_new, test_size=0.4, random_state=0)\n",
    "svm = SVC(kernel='linear', C=10)\n",
    "svm.fit(trainX_3, trainY_3)\n",
    "\n",
    "plt.figure(figsize=(8, 5))\n",
    "plot_svm_2(svm, trainX_3, trainY_3, alpha=0.1)\n",
    "\n",
    "plt.legend()\n",
    "plt.xlabel('sepal length')\n",
    "plt.ylabel('sepal width')\n",
    "plt.show()\n",
    "\n",
    "print('Accuracy on training datatset = %.2f' % svm.score(trainX_3, trainY_3))\n",
    "print('Accuracy on test dataset = %.2f' % svm.score(testX_3, testY_3))\n"
   ]
  },
  {
   "cell_type": "markdown",
   "metadata": {},
   "source": [
    "As we consider the full dataset, from graph above we could clearly see that data are not linearly seperable. However we could still seperate the data by allowing some slack variable. We could also adopt the idea of kernal to pick a landmark and find the nearest points."
   ]
  },
  {
   "cell_type": "code",
   "execution_count": null,
   "metadata": {},
   "outputs": [],
   "source": []
  }
 ],
 "metadata": {
  "interpreter": {
   "hash": "c0f4f209e10335e3e23724554467b4ac1049b8702a33b9e7d28faade96f7d388"
  },
  "kernelspec": {
   "display_name": "Python 3.8.8 64-bit ('ece421': conda)",
   "name": "python3"
  },
  "language_info": {
   "codemirror_mode": {
    "name": "ipython",
    "version": 3
   },
   "file_extension": ".py",
   "mimetype": "text/x-python",
   "name": "python",
   "nbconvert_exporter": "python",
   "pygments_lexer": "ipython3",
   "version": "3.8.8"
  },
  "orig_nbformat": 4
 },
 "nbformat": 4,
 "nbformat_minor": 2
}
