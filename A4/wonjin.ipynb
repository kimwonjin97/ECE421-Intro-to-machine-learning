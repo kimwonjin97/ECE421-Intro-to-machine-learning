{
 "cells": [
  {
   "cell_type": "markdown",
   "metadata": {
    "id": "oz9MhPEUMrkC"
   },
   "source": [
    "**Assignment**: Designing and Tuning a Convolutional Neural Network (CNN)\n",
    "\n",
    "**Assignment Description**: There are four parts to this assignment\n",
    "\n",
    "1.   Building a CNN\n",
    "2.   Training and Tuning a CNN\n",
    "3.   Trying Out a New Dataset\n",
    "4.   Open-Ended Exploration\n",
    "\n",
    "You will be largely guided through the first two parts. The third and fourth part are discussion based questions. \n",
    "\n",
    "**Before the experiment, make sure that you have GPU enabled. This setting can be found under *Tools --> Settings***"
   ]
  },
  {
   "cell_type": "code",
   "execution_count": 2,
   "metadata": {
    "id": "jHvVs2GqXxNF"
   },
   "outputs": [],
   "source": [
    "#Install Objax\n",
    "!pip --quiet install  objax\n",
    "import objax"
   ]
  },
  {
   "cell_type": "code",
   "execution_count": 4,
   "metadata": {
    "id": "xqQf8f2RBDcx"
   },
   "outputs": [],
   "source": [
    "import tensorflow as tf \n",
    "import tensorflow_datasets as tfds\n",
    "import numpy as np\n",
    "import jax.numpy as jn\n",
    "import random \n",
    "import matplotlib.pyplot as plt"
   ]
  },
  {
   "cell_type": "markdown",
   "metadata": {
    "id": "w_7vcWRFO39r"
   },
   "source": [
    "## **Part 1. Building a CNN** \n",
    "\n",
    "Before we build our CNN model, let's first import a dataset. For our experiment, we load the CIFAR10 dataset from Tensorflow's dataset repository. The CIFAR10 dataset consists of 60,000 32x32 colour images in 10 classes, with 6000 images per class. The 10 different classes represent airplanes, cars, birds, cats, deer, dogs, frogs, horses, ships, and trucks.\n",
    "\n",
    "After loading the dataset, we split the dataset into training, validation and test set. The dataset is originally stored as 50,000 training examples and 10,000 test examples. Instead, we will combine them together and make our own split.\n",
    "\n",
    "Do not change split ratio for now."
   ]
  },
  {
   "cell_type": "code",
   "execution_count": 7,
   "metadata": {
    "colab": {
     "base_uri": "https://localhost:8080/"
    },
    "id": "e5VQDzs1XodT",
    "outputId": "20dcfb91-9447-4b41-b3af-25f48e95cadb"
   },
   "outputs": [],
   "source": [
    "#.load_data() by default returns a split between training and test set. \n",
    "# We then adjust the training set into a format that can be accepted by our CNN\n",
    "(X_train, Y_train), (X_test, Y_test) = tf.keras.datasets.cifar10.load_data()\n",
    "X_train = X_train.transpose(0, 3, 1, 2) / 255.0\n",
    "Y_train = Y_train.flatten()\n",
    "X_test = X_test.transpose(0, 3, 1, 2) / 255.0\n",
    "Y_test = Y_test.flatten()\n",
    "\n",
    "np.random.seed(1)\n",
    "# To create a validation set, we first concate the original splitted dataset into a single dataset \n",
    "# then randomly shuffle the images and labels in the same way (seed = 1)\n",
    "X_data = np.concatenate([X_train, X_test], axis = 0)\n",
    "Y_data = np.concatenate([Y_train, Y_test], axis = 0)\n",
    "\n",
    "N = np.arange(len(X_data))\n",
    "np.random.shuffle(N)\n",
    "X_data = X_data[N]\n",
    "Y_data = Y_data[N]\n",
    "\n",
    "#Next, we partition the randomly shuffled dataset into training, validation and testset according a ratio\n",
    "train_ratio = 0.80\n",
    "valid_ratio = 0.1\n",
    "n_train = int(len(X_data) * train_ratio)\n",
    "n_valid = int(len(X_data) * valid_ratio)\n",
    "\n",
    "X_train, X_valid, X_test = X_data[:n_train], X_data[n_train:n_train+n_valid], X_data[n_train+n_valid:]\n",
    "Y_train, Y_valid, Y_test = Y_data[:n_train], Y_data[n_train:n_train+n_valid], Y_data[n_train+n_valid:]"
   ]
  },
  {
   "cell_type": "markdown",
   "metadata": {
    "id": "szDmexFGT7Qs"
   },
   "source": [
    "\n",
    "Next we will construct a **Base Model**, which in our case is a small CNN."
   ]
  },
  {
   "cell_type": "code",
   "execution_count": 8,
   "metadata": {
    "id": "_Eeh6jvfBV4p"
   },
   "outputs": [
    {
     "name": "stderr",
     "output_type": "stream",
     "text": [
      "WARNING:absl:No GPU/TPU found, falling back to CPU. (Set TF_CPP_MIN_LOG_LEVEL=0 and rerun for more info.)\n"
     ]
    }
   ],
   "source": [
    "class ConvNet(objax.Module):\n",
    "  def __init__(self, number_of_channels = 3, number_of_classes = 10):\n",
    "    self.conv_1 = objax.nn.Sequential([objax.nn.Conv2D(number_of_channels, 16, 2), objax.functional.relu])\n",
    "    self.conv_2 = objax.nn.Sequential([objax.nn.Conv2D(16, 32, 2), objax.functional.relu])\n",
    "    self.linear = objax.nn.Linear(32, number_of_classes)\n",
    "\n",
    "  def __call__(self, x):\n",
    "    x = objax.functional.max_pool_2d(self.conv_1(x), 2, 2)\n",
    "    x = self.conv_2(x)\n",
    "  \n",
    "    x = x.mean((2,3)) #<--- global average pooling \n",
    "    x = self.linear(x)\n",
    "    return x\n",
    "\n",
    "#The following line creates the CNN\n",
    "model = ConvNet()\n",
    "#You can examine the architecture of our CNN by calling model.vars()"
   ]
  },
  {
   "cell_type": "markdown",
   "metadata": {
    "id": "Crz2dQZBds89"
   },
   "source": [
    "Before we train our conv net, let's try to better understand concepts of convolution filter and linear layer. In the following, you will take the first very image of the training set, create a simple convolution routine, and show that our own routine matches what Objax returns. \n",
    "\n"
   ]
  },
  {
   "cell_type": "code",
   "execution_count": 9,
   "metadata": {
    "colab": {
     "base_uri": "https://localhost:8080/",
     "height": 283
    },
    "id": "Epa7ETf6XddH",
    "outputId": "906e0d2f-8f2c-464d-b878-d4e7a404467d"
   },
   "outputs": [
    {
     "data": {
      "text/plain": [
       "<matplotlib.image.AxesImage at 0x7f92686a7a30>"
      ]
     },
     "execution_count": 9,
     "metadata": {},
     "output_type": "execute_result"
    },
    {
     "data": {
      "image/png": "[encoded data removed]",
      "text/plain": [
       "<Figure size 432x288 with 1 Axes>"
      ]
     },
     "metadata": {
      "needs_background": "light"
     },
     "output_type": "display_data"
    }
   ],
   "source": [
    "#Let's plot the first image in the training set.\n",
    "plt.imshow(X_train[0].transpose(1,2,0))"
   ]
  },
  {
   "cell_type": "markdown",
   "metadata": {
    "id": "PQjS06vgXZ7r"
   },
   "source": [
    "Next, we will pass our image through Objax's convolution routine. Carefully examine the following code and try to understand the dimension of the filter weights and the output. "
   ]
  },
  {
   "cell_type": "code",
   "execution_count": 11,
   "metadata": {
    "colab": {
     "base_uri": "https://localhost:8080/"
    },
    "id": "vFBbJHBpXXUc",
    "outputId": "55dbae7b-0a41-4a37-9391-b11653a42b32"
   },
   "outputs": [],
   "source": [
    "# We append the first image with a batch size of 1 so it can be fed into a convolution layer\n",
    "my_image = np.expand_dims(X_train[0], 0)\n",
    "\n",
    "#Consider a very simple CNN filter with stride = 1 and no padding ('VALID').\n",
    "Conv2d = objax.nn.Conv2D(nin = 3, nout = 2, k = 1, strides = 1, padding = 'VALID', use_bias = False)\n",
    "\n",
    "filter_weights = Conv2d.w.value #This is the initial weight of the filter, which we gradually update when training, we ignore bias for now\n",
    "\n",
    "# print(\"Conv output:\", Conv2d(my_image))\n",
    "# print(\"Conv output shape:\", np.shape(Conv2d(my_image)))"
   ]
  },
  {
   "cell_type": "markdown",
   "metadata": {
    "id": "KsDg8yateSuH"
   },
   "source": [
    "**In the cells below, you will create your own convolution routine that takes in the image and the initial weights used by Objax's own convolution routine (Conv2d.w.value) and show that your convolution routine returns the same value than Objax's.**\n",
    "\n",
    "A simple implementation only requires 4 FOR loops. You may wish to draw inspiration from https://objax.readthedocs.io/en/latest/objax/nn.html?highlight=objax.nn.Conv2D#objax.nn.Conv2D"
   ]
  },
  {
   "cell_type": "markdown",
   "metadata": {},
   "source": [
    "## 2. (2 points) Fill in the code for your custom convolution filter and show that it returns the same output as Objax’s own convolution routine."
   ]
  },
  {
   "cell_type": "code",
   "execution_count": 13,
   "metadata": {
    "colab": {
     "base_uri": "https://localhost:8080/"
    },
    "id": "f5B6K9gyXTAx",
    "outputId": "cb0347ec-9d8a-4af2-dc13-feb0d91b0449"
   },
   "outputs": [
    {
     "name": "stdout",
     "output_type": "stream",
     "text": [
      "1.0984808e-06\n",
      "Customized convolution routine returns the same value as convolution routine implemented using Objax\n"
     ]
    }
   ],
   "source": [
    "#Solution to the above problem\n",
    "def my_conv_net(my_image, initial_filter_weights):\n",
    "  initial_filter_weights = np.flipud(np.fliplr(initial_filter_weights))\n",
    "  N_in, C_in, H_in, W_in = my_image.shape\n",
    "  k_1, k_2, C_in, C_out = initial_filter_weights.shape\n",
    "  H_out = H_in - k_1 + 1\n",
    "  W_out = W_in - k_2 + 1\n",
    "  my_conv_output = np.zeros([N_in, C_out , H_out, W_out])\n",
    "\n",
    "  for n in range(my_conv_output.shape[0]):\n",
    "    for c_out in range(my_conv_output.shape[1]):\n",
    "      for h in range(my_conv_output.shape[2]):\n",
    "        for w in range(my_conv_output.shape[3]):\n",
    "          my_conv_output[n,c_out,h,w] = (jn.multiply(my_image[n, :, h, w], initial_filter_weights[:,:,:,c_out])).sum()\n",
    "\n",
    "  return my_conv_output\n",
    "\n",
    "# print(\"Conv output:\", np.around(my_conv_net(my_image, filter_weights),decimals=5).shape)\n",
    "# print(\"Conv output:\", np.around(Conv2d(my_image),decimals=5).shape)\n",
    "\n",
    "distance = np.linalg.norm(np.around(my_conv_net(my_image, filter_weights),decimals=10) -  np.around(Conv2d(my_image),decimals=10))\n",
    "print(distance)\n",
    "\n",
    "print(\"Customized convolution routine returns the same value as convolution routine implemented using Objax\")"
   ]
  },
  {
   "cell_type": "markdown",
   "metadata": {
    "id": "d9dbovOwiVDE"
   },
   "source": [
    "The outputs of last convolution layer is typically rearranged so it can be fed into a linear layer. Check that calling .mean((2,3)) rearranges the output of your convolution routine by examining the shape of the output. (Not graded) Think about alternative ways of rearranging the output from the convolution layer. "
   ]
  },
  {
   "cell_type": "code",
   "execution_count": 14,
   "metadata": {
    "colab": {
     "base_uri": "https://localhost:8080/"
    },
    "id": "q7hngIUNXIMQ",
    "outputId": "13b3b8f8-a93c-4384-948c-92a1b05c1eb4"
   },
   "outputs": [
    {
     "data": {
      "text/plain": [
       "array([[ 0.35491104, -0.41205541]])"
      ]
     },
     "execution_count": 14,
     "metadata": {},
     "output_type": "execute_result"
    }
   ],
   "source": [
    "#Check that .mean((2,3)) rearranges your image\n",
    "my_conv_output = my_conv_net(my_image, filter_weights)\n",
    "my_conv_output.mean((2,3))"
   ]
  },
  {
   "cell_type": "markdown",
   "metadata": {
    "id": "xTWfvL0mis3D"
   },
   "source": [
    "Take your rearranged output and feed it into a linear layer of appropriate size. Here is an example:\n",
    "\n",
    "```\n",
    "Linear_Layer = objax.nn.Linear(N, 1)\n",
    "Y = Linear_Layer(X)\n",
    "```\n",
    "Next, extract the weights and bias of the linear layer using \n",
    "```\n",
    "Linear_Layer.w.value\n",
    "Linear_Layer.b.value\n",
    "```\n",
    "**Using these values, write one line of code that manually implements the linear layer. Show that it provides the same value as Objax's own linear layer.** \n",
    "\n"
   ]
  },
  {
   "cell_type": "markdown",
   "metadata": {},
   "source": [
    "## 3. (1 point) Fill in the code for your linear layer, and show that it returns the same output as passing through Objax’s own linear layer."
   ]
  },
  {
   "cell_type": "code",
   "execution_count": 16,
   "metadata": {
    "colab": {
     "base_uri": "https://localhost:8080/"
    },
    "id": "Uq-TkFpgXDC7",
    "outputId": "6eb99874-a799-40ab-fcd0-48236154a5cd"
   },
   "outputs": [
    {
     "name": "stdout",
     "output_type": "stream",
     "text": [
      "[[1.2901229]]\n",
      "[[1.2901229]]\n",
      "manually implemented linear layer shows same values as implementation using objax\n"
     ]
    }
   ],
   "source": [
    "np.random.seed(1)\n",
    "my_conv_output = my_conv_net(my_image, filter_weights)\n",
    "X=my_conv_output.mean((2,3))\n",
    "Linear_Layer = objax.nn.Linear(2,1)\n",
    "\n",
    "#PUT YOUR CODE HERE\n",
    "Y = np.dot(X, Linear_Layer.w.value) + Linear_Layer.b.value\n",
    "print(Y)\n",
    "\n",
    "Y_obj = Linear_Layer(my_conv_output.mean((2,3)))\n",
    "print(Y_obj)\n",
    "\n",
    "assert(Y==Y_obj).all()\n",
    "print(\"manually implemented linear layer shows same values as implementation using objax\")"
   ]
  },
  {
   "cell_type": "markdown",
   "metadata": {
    "id": "96QQXl3d2kZn"
   },
   "source": [
    "You have now completed Part 1 of the assignment. Good job!\n"
   ]
  },
  {
   "cell_type": "markdown",
   "metadata": {
    "id": "2kqaH75UUaSE"
   },
   "source": [
    "## **Part 2. Training and Tuning a CNN**\n",
    "\n",
    "The following starter code trains the neural network in Part 1. However, the optimizer and batch sampling routine are left for you to implement. Complete the lines that says #PUT YOUR CODE HERE#\n",
    "\n",
    "Afterwards, train the model, and observe the training/validation loss and accuracy plots. You should observe that the validation accuracy is low and stagnates after a few epochs."
   ]
  },
  {
   "cell_type": "markdown",
   "metadata": {},
   "source": [
    "## 1. (1 point) Complete the optimizer by using the definition of (stochastic) gradient descent: wk+1 = wk−e∇L(wk). Note that you need to update params.value, which are the values of the trainable variables of your model."
   ]
  },
  {
   "cell_type": "code",
   "execution_count": 17,
   "metadata": {
    "id": "zBcHWoCl0URZ"
   },
   "outputs": [],
   "source": [
    "#Define loss function as averaged value of of cross entropies\n",
    "def loss_function(x, labels):\n",
    "    logit = model(x)\n",
    "    return objax.functional.loss.cross_entropy_logits_sparse(logit, labels).mean()\n",
    "\n",
    "#Define a prediction function\n",
    "predict = objax.Jit(lambda x: objax.functional.softmax(model(x)), model.vars()) \n",
    "\n",
    "#Create an object that can be used to calculate the gradient and value of loss_function\n",
    "gv= objax.GradValues(loss_function, model.vars())\n",
    "\n",
    "#Create an object that can be used to provide trainable variables in the model\n",
    "tv = objax.ModuleList(objax.TrainRef(x) for x in model.vars().subset(objax.TrainVar))\n",
    "\n",
    "#Training routine\n",
    "def train_op(x, y, learning_rate):\n",
    "    lr = learning_rate\n",
    "    gradient, loss_value = gv(x, y)   # calculate gradient and loss value \"backprop\"\n",
    "    #next we update the trainable parameter using SGD and similar procedure\n",
    "\n",
    "    for grad, params in zip(gradient, tv.vars()):\n",
    "\n",
    "      params.assign(params.value - jn.multiply(grad, lr))\n",
    "    \n",
    "    return loss_value                      # return loss value\n",
    "\n",
    "#make train_op (much) faster using JIT compilation\n",
    "train_op = objax.Jit(train_op, gv.vars() + tv.vars())"
   ]
  },
  {
   "cell_type": "markdown",
   "metadata": {},
   "source": [
    "## 2. (1 point) Complete the batch sampling code in the train function by specifying a batch of examples. You should make use the lists train indices and val indices."
   ]
  },
  {
   "cell_type": "code",
   "execution_count": 18,
   "metadata": {
    "id": "hGPpVTfG0Ug1"
   },
   "outputs": [],
   "source": [
    "\n",
    "def train(EPOCHS = 20, BATCH = 32, LEARNING_RATE = 9e-4):\n",
    "  avg_train_loss_epoch = []\n",
    "  avg_val_loss_epoch = []\n",
    "  train_acc_epoch = []\n",
    "  val_acc_epoch = []\n",
    "\n",
    "  for epoch in range(EPOCHS):\n",
    "      avg_train_loss = 0 # (averaged) training loss per batch\n",
    "      avg_val_loss =  0  # (averaged) validation loss per batch\n",
    "      train_acc = 0      # training accuracy per batch\n",
    "      val_acc = 0        # validation accuracy per batch\n",
    "\n",
    "      # shuffle the examples prior to training to remove correlation \n",
    "      train_indices = np.arange(len(X_train)) \n",
    "      np.random.shuffle(train_indices)\n",
    "      for it in range(0, X_train.shape[0], BATCH):\n",
    "          batch = train_indices[it:it+BATCH]\n",
    "          avg_train_loss += float(train_op(X_train[batch], Y_train[batch], LEARNING_RATE)[0]) * len(batch)\n",
    "          train_prediction = predict(X_train[batch]).argmax(1)\n",
    "          train_acc += (np.array(train_prediction).flatten() == Y_train[batch]).sum()\n",
    "      train_acc_epoch.append(train_acc/X_train.shape[0])\n",
    "      avg_train_loss_epoch.append(avg_train_loss/X_train.shape[0])\n",
    "\n",
    "      # run validation\n",
    "      val_indices = np.arange(len(X_valid)) \n",
    "      np.random.shuffle(val_indices)    \n",
    "      for it in range(0, X_valid.shape[0], BATCH):\n",
    "          batch = val_indices[it:it+BATCH]\n",
    "          avg_val_loss += float(loss_function(X_valid[batch], Y_valid[batch])) * len(batch)\n",
    "          val_prediction = predict(X_valid[batch]).argmax(1)\n",
    "          val_acc += (np.array(val_prediction).flatten() == Y_valid[batch]).sum()\n",
    "      val_acc_epoch.append(val_acc/X_valid.shape[0])\n",
    "      avg_val_loss_epoch.append(avg_val_loss/X_valid.shape[0])\n",
    "\n",
    "      print('Epoch %04d  Training Loss %.2f Validation Loss %.2f Training Accuracy %.2f Validation Accuracy %.2f' % (epoch + 1, avg_train_loss/X_train.shape[0], avg_val_loss/X_valid.shape[0], 100*train_acc/X_train.shape[0], 100*val_acc/X_valid.shape[0]))\n",
    "  \n",
    "  #Plot training loss\n",
    "  plt.title(\"Train vs Validation Loss\")\n",
    "  plt.plot(avg_train_loss_epoch, label=\"Train\")\n",
    "  plt.plot(avg_val_loss_epoch, label=\"Validation\")\n",
    "  plt.xlabel(\"Epoch\")\n",
    "  plt.ylabel(\"Loss\")\n",
    "  plt.legend(loc='best')\n",
    "  plt.show()\n",
    "\n",
    "  plt.title(\"Train vs Validation Accuracy\")\n",
    "  plt.plot(train_acc_epoch, label=\"Train\")\n",
    "  plt.plot(val_acc_epoch, label=\"Validation\")\n",
    "  plt.xlabel(\"Epoch\")\n",
    "  plt.ylabel(\"Accuracy (%)\")\n",
    "  plt.legend(loc='best')\n",
    "  plt.show()\n",
    "  return (train_acc_epoch, val_acc_epoch)\n"
   ]
  },
  {
   "cell_type": "code",
   "execution_count": 25,
   "metadata": {
    "colab": {
     "base_uri": "https://localhost:8080/"
    },
    "id": "8YqWtV5VYW45",
    "outputId": "d7379fc4-816e-4f0f-ca6b-edf9bf386f5c"
   },
   "outputs": [
    {
     "name": "stdout",
     "output_type": "stream",
     "text": [
      "Epoch 0001  Training Loss 2.09 Validation Loss 2.08 Training Accuracy 22.18 Validation Accuracy 22.57\n",
      "Epoch 0002  Training Loss 2.09 Validation Loss 2.08 Training Accuracy 22.23 Validation Accuracy 22.50\n",
      "Epoch 0003  Training Loss 2.09 Validation Loss 2.08 Training Accuracy 22.21 Validation Accuracy 22.68\n",
      "Epoch 0004  Training Loss 2.08 Validation Loss 2.08 Training Accuracy 22.30 Validation Accuracy 22.70\n",
      "Epoch 0005  Training Loss 2.08 Validation Loss 2.08 Training Accuracy 22.32 Validation Accuracy 22.38\n",
      "Epoch 0006  Training Loss 2.08 Validation Loss 2.08 Training Accuracy 22.44 Validation Accuracy 22.68\n",
      "Epoch 0007  Training Loss 2.08 Validation Loss 2.08 Training Accuracy 22.34 Validation Accuracy 22.72\n",
      "Epoch 0008  Training Loss 2.08 Validation Loss 2.08 Training Accuracy 22.45 Validation Accuracy 22.95\n",
      "Epoch 0009  Training Loss 2.08 Validation Loss 2.07 Training Accuracy 22.66 Validation Accuracy 22.92\n",
      "Epoch 0010  Training Loss 2.08 Validation Loss 2.07 Training Accuracy 22.64 Validation Accuracy 22.85\n",
      "Epoch 0011  Training Loss 2.08 Validation Loss 2.07 Training Accuracy 22.68 Validation Accuracy 22.82\n",
      "Epoch 0012  Training Loss 2.08 Validation Loss 2.07 Training Accuracy 22.72 Validation Accuracy 22.75\n",
      "Epoch 0013  Training Loss 2.08 Validation Loss 2.07 Training Accuracy 22.71 Validation Accuracy 23.05\n",
      "Epoch 0014  Training Loss 2.08 Validation Loss 2.07 Training Accuracy 22.76 Validation Accuracy 23.18\n",
      "Epoch 0015  Training Loss 2.07 Validation Loss 2.07 Training Accuracy 22.89 Validation Accuracy 23.18\n",
      "Epoch 0016  Training Loss 2.07 Validation Loss 2.07 Training Accuracy 22.89 Validation Accuracy 23.52\n",
      "Epoch 0017  Training Loss 2.07 Validation Loss 2.07 Training Accuracy 23.07 Validation Accuracy 23.45\n",
      "Epoch 0018  Training Loss 2.07 Validation Loss 2.07 Training Accuracy 23.10 Validation Accuracy 23.55\n",
      "Epoch 0019  Training Loss 2.07 Validation Loss 2.07 Training Accuracy 23.05 Validation Accuracy 23.57\n",
      "Epoch 0020  Training Loss 2.07 Validation Loss 2.07 Training Accuracy 23.08 Validation Accuracy 23.68\n"
     ]
    },
    {
     "data": {
      "image/png": "[encoded data removed]",
      "text/plain": [
       "<Figure size 432x288 with 1 Axes>"
      ]
     },
     "metadata": {
      "needs_background": "light"
     },
     "output_type": "display_data"
    },
    {
     "data": {
      "image/png": "[encoded data removed]",
      "text/plain": [
       "<Figure size 432x288 with 1 Axes>"
      ]
     },
     "metadata": {
      "needs_background": "light"
     },
     "output_type": "display_data"
    }
   ],
   "source": [
    "train_acc_base, val_acc_base = train()"
   ]
  },
  {
   "cell_type": "code",
   "execution_count": 27,
   "metadata": {},
   "outputs": [
    {
     "name": "stdout",
     "output_type": "stream",
     "text": [
      "0.231 [17]\n",
      "0.23683333333333334 [19]\n"
     ]
    }
   ],
   "source": [
    "print(np.max(train_acc_base), np.where(train_acc_base == np.max(train_acc_base))[0])\n",
    "print(np.max(val_acc_base), np.where(val_acc_base == np.max(val_acc_base))[0])"
   ]
  },
  {
   "cell_type": "markdown",
   "metadata": {
    "id": "hluN6UIbNyj7"
   },
   "source": [
    "Follow the assignment handout for questions to be answered in this part of the assignment."
   ]
  },
  {
   "cell_type": "markdown",
   "metadata": {},
   "source": [
    "# 5 \n",
    "# H_1 = {batch size: 32, learning rate: 0.001, optimizer: \"adam\", # of outputs of conv layer1: 16} \n",
    "# H_2 = {batch size: 64, learning rate: 0.01, optimizer: \"LARS\", # of outputs of conv layer1: 32} "
   ]
  },
  {
   "cell_type": "code",
   "execution_count": 3,
   "metadata": {
    "id": "S8LXS4oHZA9M"
   },
   "outputs": [
    {
     "name": "stderr",
     "output_type": "stream",
     "text": [
      "WARNING:absl:No GPU/TPU found, falling back to CPU. (Set TF_CPP_MIN_LOG_LEVEL=0 and rerun for more info.)\n"
     ]
    }
   ],
   "source": [
    "\n",
    "#H_1 = {batch size: 32, learning rate: 0.001, optimizer: \"adam\", # of outputs of conv layer1: 16} \n",
    "#H_2 = {batch size: 64, learning rate: 0.01, optimizer: \"LARS\", # of outputs of conv layer1: 32} \n",
    "\n",
    "class ConvNet_H_1(objax.Module):\n",
    "  def __init__(self, number_of_channels = 3, number_of_classes = 10):\n",
    "    self.conv_1 = objax.nn.Sequential([objax.nn.Conv2D(number_of_channels, 16, 2), objax.functional.relu])\n",
    "    self.conv_2 = objax.nn.Sequential([objax.nn.Conv2D(16, 32, 2), objax.functional.relu])\n",
    "    self.linear = objax.nn.Linear(32, number_of_classes)\n",
    "\n",
    "  def __call__(self, x):\n",
    "    x = objax.functional.max_pool_2d(self.conv_1(x), 2, 2)\n",
    "    x = self.conv_2(x)\n",
    "  \n",
    "    x = x.mean((2,3))\n",
    "    x = self.linear(x)\n",
    "    return x\n",
    "\n",
    "class ConvNet_H_2(objax.Module):\n",
    "  def __init__(self, number_of_channels = 3, number_of_classes = 10):\n",
    "    self.conv_1 = objax.nn.Sequential([objax.nn.Conv2D(number_of_channels, 32, 2), objax.functional.relu])\n",
    "    self.conv_2 = objax.nn.Sequential([objax.nn.Conv2D(32, 32, 2), objax.functional.relu])\n",
    "    self.linear = objax.nn.Linear(32, number_of_classes)\n",
    "\n",
    "  def __call__(self, x):\n",
    "    x = objax.functional.max_pool_2d(self.conv_1(x), 2, 2)\n",
    "    x = self.conv_2(x)\n",
    "  \n",
    "    x = x.mean((2,3))\n",
    "    x = self.linear(x)\n",
    "    return x\n",
    "\n",
    "\n",
    "model_H_1 = ConvNet_H_1()\n",
    "model_H_2 = ConvNet_H_2()\n"
   ]
  },
  {
   "cell_type": "code",
   "execution_count": 20,
   "metadata": {},
   "outputs": [],
   "source": [
    "#Define loss function as averaged value of of cross entropies\n",
    "def loss_function_H_1(x, labels):\n",
    "    logit = model_H_1(x)\n",
    "    return objax.functional.loss.cross_entropy_logits_sparse(logit, labels).mean()\n",
    "\n",
    "def loss_function_H_2(x, labels):\n",
    "    logit = model_H_2(x)\n",
    "    return objax.functional.loss.cross_entropy_logits_sparse(logit, labels).mean()\n",
    "\n",
    "\n",
    "#Optimizers\n",
    "opt_H_1 = objax.optimizer.Adam(model_H_1.vars())\n",
    "opt_H_2 = objax.optimizer.LARS(model_H_2.vars())\n",
    "\n",
    "\n",
    "#Define a prediction function\n",
    "predict_H_1 = objax.Jit(lambda x: objax.functional.softmax(model_H_1(x)), model_H_1.vars()) \n",
    "predict_H_2 = objax.Jit(lambda x: objax.functional.softmax(model_H_2(x)), model_H_2.vars()) \n",
    "\n",
    "#Create an object that can be used to calculate the gradient and value of loss_function\n",
    "gv_H_1= objax.GradValues(loss_function_H_1, model_H_1.vars())\n",
    "gv_H_2= objax.GradValues(loss_function_H_2, model_H_2.vars())\n",
    "\n",
    "#Create an object that can be used to provide trainable variables in the model\n",
    "tv_H_1 = objax.ModuleList(objax.TrainRef(x) for x in model_H_1.vars().subset(objax.TrainVar))\n",
    "tv_H_2 = objax.ModuleList(objax.TrainRef(x) for x in model_H_2.vars().subset(objax.TrainVar))\n",
    "\n",
    "#Training routine\n",
    "def train_op_H_1(x, y, learning_rate):\n",
    "    lr = learning_rate\n",
    "    gradient, loss_value = gv_H_1(x, y)\n",
    "    opt_H_1(lr,gradient)\n",
    "    return loss_value           \n",
    "\n",
    "def train_op_H_2(x, y, learning_rate):\n",
    "    lr = learning_rate\n",
    "    gradient, loss_value = gv_H_2(x, y)\n",
    "    opt_H_2(lr,gradient)\n",
    "    return loss_value              \n",
    "\n",
    "\n",
    "train_op_H_1 = objax.Jit(train_op_H_1, gv_H_1.vars() + tv_H_1.vars())\n",
    "train_op_H_2 = objax.Jit(train_op_H_2, gv_H_2.vars() + tv_H_2.vars())"
   ]
  },
  {
   "cell_type": "code",
   "execution_count": 38,
   "metadata": {},
   "outputs": [],
   "source": [
    "\n",
    "def train_H_1(EPOCHS = 20, BATCH = 32, LEARNING_RATE = 0.001):\n",
    "  avg_train_loss_epoch = []\n",
    "  avg_val_loss_epoch = []\n",
    "  train_acc_epoch = []\n",
    "  val_acc_epoch = []\n",
    "\n",
    "  for epoch in range(EPOCHS):\n",
    "      avg_train_loss = 0 # (averaged) training loss per batch\n",
    "      avg_val_loss =  0  # (averaged) validation loss per batch\n",
    "      train_acc = 0      # training accuracy per batch\n",
    "      val_acc = 0        # validation accuracy per batch\n",
    "\n",
    "      # shuffle the examples prior to training to remove correlation \n",
    "      train_indices = np.arange(len(X_train)) \n",
    "      np.random.shuffle(train_indices)\n",
    "      for it in range(0, X_train.shape[0], BATCH):\n",
    "          batch = train_indices[it:it+BATCH]\n",
    "          avg_train_loss += float(train_op_H_1(X_train[batch], Y_train[batch], LEARNING_RATE)[0]) * len(batch)\n",
    "          train_prediction = predict_H_1(X_train[batch]).argmax(1)\n",
    "          train_acc += (np.array(train_prediction).flatten() == Y_train[batch]).sum()\n",
    "      train_acc_epoch.append(train_acc/X_train.shape[0])\n",
    "      avg_train_loss_epoch.append(avg_train_loss/X_train.shape[0])\n",
    "\n",
    "      # run validation\n",
    "      val_indices = np.arange(len(X_valid)) \n",
    "      np.random.shuffle(val_indices)    \n",
    "      for it in range(0, X_valid.shape[0], BATCH):\n",
    "          batch = val_indices[it:it+BATCH]\n",
    "          avg_val_loss += float(loss_function_H_1(X_valid[batch], Y_valid[batch])) * len(batch)\n",
    "          val_prediction = predict_H_1(X_valid[batch]).argmax(1)\n",
    "          val_acc += (np.array(val_prediction).flatten() == Y_valid[batch]).sum()\n",
    "      val_acc_epoch.append(val_acc/X_valid.shape[0])\n",
    "      avg_val_loss_epoch.append(avg_val_loss/X_valid.shape[0])\n",
    "\n",
    "      print('Epoch %04d  Training Loss %.2f Validation Loss %.2f Training Accuracy %.2f Validation Accuracy %.2f' % (epoch + 1, avg_train_loss/X_train.shape[0], avg_val_loss/X_valid.shape[0], 100*train_acc/X_train.shape[0], 100*val_acc/X_valid.shape[0]))\n",
    "  \n",
    "  #Plot training loss\n",
    "  plt.title(\"Train vs Validation Loss\")\n",
    "  plt.plot(avg_train_loss_epoch, label=\"Train\")\n",
    "  plt.plot(avg_val_loss_epoch, label=\"Validation\")\n",
    "  plt.xlabel(\"Epoch\")\n",
    "  plt.ylabel(\"Loss\")\n",
    "  plt.legend(loc='best')\n",
    "  plt.show()\n",
    "\n",
    "  plt.title(\"Train vs Validation Accuracy\")\n",
    "  plt.plot(train_acc_epoch, label=\"Train\")\n",
    "  plt.plot(val_acc_epoch, label=\"Validation\")\n",
    "  plt.xlabel(\"Epoch\")\n",
    "  plt.ylabel(\"Accuracy (%)\")\n",
    "  plt.legend(loc='best')\n",
    "  plt.show()\n",
    "  return (train_acc_epoch, val_acc_epoch)\n",
    "\n",
    "\n",
    "\n",
    "def train_H_2(EPOCHS = 20, BATCH = 64, LEARNING_RATE = 0.01):\n",
    "  avg_train_loss_epoch = []\n",
    "  avg_val_loss_epoch = []\n",
    "  train_acc_epoch = []\n",
    "  val_acc_epoch = []\n",
    "\n",
    "  for epoch in range(EPOCHS):\n",
    "      avg_train_loss = 0 # (averaged) training loss per batch\n",
    "      avg_val_loss =  0  # (averaged) validation loss per batch\n",
    "      train_acc = 0      # training accuracy per batch\n",
    "      val_acc = 0        # validation accuracy per batch\n",
    "\n",
    "      # shuffle the examples prior to training to remove correlation \n",
    "      train_indices = np.arange(len(X_train)) \n",
    "      np.random.shuffle(train_indices)\n",
    "      for it in range(0, X_train.shape[0], BATCH):\n",
    "          batch = train_indices[it:it+BATCH]\n",
    "          avg_train_loss += float(train_op_H_2(X_train[batch], Y_train[batch], LEARNING_RATE)[0]) * len(batch)\n",
    "          train_prediction = predict_H_2(X_train[batch]).argmax(1)\n",
    "          train_acc += (np.array(train_prediction).flatten() == Y_train[batch]).sum()\n",
    "      train_acc_epoch.append(train_acc/X_train.shape[0])\n",
    "      avg_train_loss_epoch.append(avg_train_loss/X_train.shape[0])\n",
    "\n",
    "      # run validation\n",
    "      val_indices = np.arange(len(X_valid)) \n",
    "      np.random.shuffle(val_indices)    \n",
    "      for it in range(0, X_valid.shape[0], BATCH):\n",
    "          batch = val_indices[it:it+BATCH]\n",
    "          avg_val_loss += float(loss_function_H_2(X_valid[batch], Y_valid[batch])) * len(batch)\n",
    "          val_prediction = predict_H_2(X_valid[batch]).argmax(1)\n",
    "          val_acc += (np.array(val_prediction).flatten() == Y_valid[batch]).sum()\n",
    "      val_acc_epoch.append(val_acc/X_valid.shape[0])\n",
    "      avg_val_loss_epoch.append(avg_val_loss/X_valid.shape[0])\n",
    "\n",
    "      print('Epoch %04d  Training Loss %.2f Validation Loss %.2f Training Accuracy %.2f Validation Accuracy %.2f' % (epoch + 1, avg_train_loss/X_train.shape[0], avg_val_loss/X_valid.shape[0], 100*train_acc/X_train.shape[0], 100*val_acc/X_valid.shape[0]))\n",
    "  \n",
    "  #Plot training loss\n",
    "  plt.title(\"Train vs Validation Loss\")\n",
    "  plt.plot(avg_train_loss_epoch, label=\"Train\")\n",
    "  plt.plot(avg_val_loss_epoch, label=\"Validation\")\n",
    "  plt.xlabel(\"Epoch\")\n",
    "  plt.ylabel(\"Loss\")\n",
    "  plt.legend(loc='best')\n",
    "  plt.show()\n",
    "\n",
    "  plt.title(\"Train vs Validation Accuracy\")\n",
    "  plt.plot(train_acc_epoch, label=\"Train\")\n",
    "  plt.plot(val_acc_epoch, label=\"Validation\")\n",
    "  plt.xlabel(\"Epoch\")\n",
    "  plt.ylabel(\"Accuracy (%)\")\n",
    "  plt.legend(loc='best')\n",
    "  plt.show()\n",
    "  return (train_acc_epoch, val_acc_epoch)"
   ]
  },
  {
   "cell_type": "code",
   "execution_count": 40,
   "metadata": {},
   "outputs": [
    {
     "name": "stdout",
     "output_type": "stream",
     "text": [
      "Epoch 0001  Training Loss 1.60 Validation Loss 1.59 Training Accuracy 45.26 Validation Accuracy 42.43\n",
      "Epoch 0002  Training Loss 1.59 Validation Loss 1.58 Training Accuracy 45.35 Validation Accuracy 43.37\n",
      "Epoch 0003  Training Loss 1.59 Validation Loss 1.60 Training Accuracy 45.78 Validation Accuracy 42.13\n",
      "Epoch 0004  Training Loss 1.58 Validation Loss 1.57 Training Accuracy 46.10 Validation Accuracy 43.48\n",
      "Epoch 0005  Training Loss 1.58 Validation Loss 1.57 Training Accuracy 46.31 Validation Accuracy 43.07\n",
      "Epoch 0006  Training Loss 1.57 Validation Loss 1.60 Training Accuracy 46.53 Validation Accuracy 42.47\n",
      "Epoch 0007  Training Loss 1.57 Validation Loss 1.59 Training Accuracy 46.80 Validation Accuracy 41.80\n",
      "Epoch 0008  Training Loss 1.56 Validation Loss 1.56 Training Accuracy 47.40 Validation Accuracy 44.35\n",
      "Epoch 0009  Training Loss 1.56 Validation Loss 1.58 Training Accuracy 47.39 Validation Accuracy 42.82\n",
      "Epoch 0010  Training Loss 1.55 Validation Loss 1.54 Training Accuracy 47.26 Validation Accuracy 44.17\n",
      "Epoch 0011  Training Loss 1.55 Validation Loss 1.54 Training Accuracy 47.74 Validation Accuracy 45.03\n",
      "Epoch 0012  Training Loss 1.55 Validation Loss 1.62 Training Accuracy 47.94 Validation Accuracy 41.40\n",
      "Epoch 0013  Training Loss 1.54 Validation Loss 1.52 Training Accuracy 47.82 Validation Accuracy 45.68\n",
      "Epoch 0014  Training Loss 1.54 Validation Loss 1.55 Training Accuracy 48.10 Validation Accuracy 44.20\n",
      "Epoch 0015  Training Loss 1.53 Validation Loss 1.52 Training Accuracy 48.24 Validation Accuracy 44.78\n",
      "Epoch 0016  Training Loss 1.53 Validation Loss 1.56 Training Accuracy 48.45 Validation Accuracy 43.37\n",
      "Epoch 0017  Training Loss 1.52 Validation Loss 1.57 Training Accuracy 48.71 Validation Accuracy 44.03\n",
      "Epoch 0018  Training Loss 1.52 Validation Loss 1.50 Training Accuracy 48.82 Validation Accuracy 45.72\n",
      "Epoch 0019  Training Loss 1.52 Validation Loss 1.52 Training Accuracy 48.99 Validation Accuracy 44.85\n",
      "Epoch 0020  Training Loss 1.51 Validation Loss 1.56 Training Accuracy 49.20 Validation Accuracy 43.27\n"
     ]
    },
    {
     "data": {
      "image/png": "[encoded data removed]",
      "text/plain": [
       "<Figure size 432x288 with 1 Axes>"
      ]
     },
     "metadata": {
      "needs_background": "light"
     },
     "output_type": "display_data"
    },
    {
     "data": {
      "image/png": "[encoded data removed]",
      "text/plain": [
       "<Figure size 432x288 with 1 Axes>"
      ]
     },
     "metadata": {
      "needs_background": "light"
     },
     "output_type": "display_data"
    }
   ],
   "source": [
    "train_acc_H_1, val_acc_H_1 = train_H_1()"
   ]
  },
  {
   "cell_type": "code",
   "execution_count": 41,
   "metadata": {},
   "outputs": [
    {
     "name": "stdout",
     "output_type": "stream",
     "text": [
      "0.4919791666666667 [19]\n",
      "0.45716666666666667 [17]\n"
     ]
    }
   ],
   "source": [
    "print(np.max(train_acc_H_1), np.where(train_acc_H_1 == np.max(train_acc_H_1))[0])\n",
    "print(np.max(val_acc_H_1), np.where(val_acc_H_1 == np.max(val_acc_H_1))[0])"
   ]
  },
  {
   "cell_type": "code",
   "execution_count": 42,
   "metadata": {},
   "outputs": [
    {
     "name": "stdout",
     "output_type": "stream",
     "text": [
      "Epoch 0001  Training Loss 2.32 Validation Loss 2.32 Training Accuracy 9.87 Validation Accuracy 9.73\n",
      "Epoch 0002  Training Loss 2.32 Validation Loss 2.31 Training Accuracy 9.86 Validation Accuracy 10.70\n",
      "Epoch 0003  Training Loss 2.31 Validation Loss 2.31 Training Accuracy 13.12 Validation Accuracy 15.87\n",
      "Epoch 0004  Training Loss 2.31 Validation Loss 2.31 Training Accuracy 14.30 Validation Accuracy 13.78\n",
      "Epoch 0005  Training Loss 2.31 Validation Loss 2.30 Training Accuracy 12.94 Validation Accuracy 12.87\n",
      "Epoch 0006  Training Loss 2.30 Validation Loss 2.30 Training Accuracy 12.53 Validation Accuracy 12.53\n",
      "Epoch 0007  Training Loss 2.30 Validation Loss 2.30 Training Accuracy 12.07 Validation Accuracy 12.30\n",
      "Epoch 0008  Training Loss 2.30 Validation Loss 2.30 Training Accuracy 11.87 Validation Accuracy 12.30\n",
      "Epoch 0009  Training Loss 2.30 Validation Loss 2.30 Training Accuracy 11.75 Validation Accuracy 12.12\n",
      "Epoch 0010  Training Loss 2.30 Validation Loss 2.30 Training Accuracy 11.77 Validation Accuracy 12.02\n",
      "Epoch 0011  Training Loss 2.30 Validation Loss 2.30 Training Accuracy 11.74 Validation Accuracy 12.15\n",
      "Epoch 0012  Training Loss 2.30 Validation Loss 2.30 Training Accuracy 11.79 Validation Accuracy 12.15\n",
      "Epoch 0013  Training Loss 2.30 Validation Loss 2.30 Training Accuracy 11.78 Validation Accuracy 12.05\n",
      "Epoch 0014  Training Loss 2.30 Validation Loss 2.30 Training Accuracy 11.76 Validation Accuracy 12.08\n",
      "Epoch 0015  Training Loss 2.30 Validation Loss 2.30 Training Accuracy 11.72 Validation Accuracy 12.08\n",
      "Epoch 0016  Training Loss 2.30 Validation Loss 2.30 Training Accuracy 11.81 Validation Accuracy 12.27\n",
      "Epoch 0017  Training Loss 2.30 Validation Loss 2.29 Training Accuracy 11.85 Validation Accuracy 12.25\n",
      "Epoch 0018  Training Loss 2.29 Validation Loss 2.29 Training Accuracy 11.90 Validation Accuracy 12.32\n",
      "Epoch 0019  Training Loss 2.29 Validation Loss 2.29 Training Accuracy 12.13 Validation Accuracy 12.37\n",
      "Epoch 0020  Training Loss 2.29 Validation Loss 2.29 Training Accuracy 12.15 Validation Accuracy 12.48\n"
     ]
    },
    {
     "data": {
      "image/png": "[encoded data removed]",
      "text/plain": [
       "<Figure size 432x288 with 1 Axes>"
      ]
     },
     "metadata": {
      "needs_background": "light"
     },
     "output_type": "display_data"
    },
    {
     "data": {
      "image/png": "[encoded data removed]",
      "text/plain": [
       "<Figure size 432x288 with 1 Axes>"
      ]
     },
     "metadata": {
      "needs_background": "light"
     },
     "output_type": "display_data"
    }
   ],
   "source": [
    "train_acc_H_2, val_acc_H_2 = train_H_2()"
   ]
  },
  {
   "cell_type": "code",
   "execution_count": 43,
   "metadata": {},
   "outputs": [
    {
     "name": "stdout",
     "output_type": "stream",
     "text": [
      "0.14304166666666668 [3]\n",
      "0.15866666666666668 [2]\n"
     ]
    }
   ],
   "source": [
    "print(np.max(train_acc_H_2), np.where(train_acc_H_2 == np.max(train_acc_H_2))[0])\n",
    "print(np.max(val_acc_H_2), np.where(val_acc_H_2 == np.max(val_acc_H_2))[0])"
   ]
  },
  {
   "cell_type": "markdown",
   "metadata": {},
   "source": [
    "# 6."
   ]
  },
  {
   "cell_type": "markdown",
   "metadata": {},
   "source": [
    "Base Model:24% at epoch 17   \n",
    "\n",
    "M1:46% at epoch 17 \n",
    "\n",
    "M2: 15% at epoch 2"
   ]
  },
  {
   "cell_type": "markdown",
   "metadata": {},
   "source": [
    "7. (2 points) Based on your answer, which model should you pick as your final model and\n",
    "why? Then evaluate your model on the test set and report final test accuracy."
   ]
  },
  {
   "cell_type": "code",
   "execution_count": 52,
   "metadata": {},
   "outputs": [],
   "source": [
    "def eval_test_acc_base(EPOCHS = 20, BATCH = 32, LEARNING_RATE = 0.001):\n",
    "    test_acc_epoch = []\n",
    "    for epoch in range(EPOCHS):\n",
    "        test_acc = 0    \n",
    "\n",
    "        # shuffle the examples prior to training to remove correlation \n",
    "        test_indices = np.arange(len(X_test)) \n",
    "        np.random.shuffle(test_indices)\n",
    "        for it in range(0, X_test.shape[0], BATCH):\n",
    "            batch = test_indices[it:it+BATCH]\n",
    "            test_prediction = predict(X_test[batch]).argmax(1)\n",
    "            test_acc += (np.array(test_prediction).flatten() == Y_test[batch]).sum()\n",
    "        test_acc_epoch.append(test_acc/X_test.shape[0])\n",
    "    return test_acc_epoch\n",
    "\n",
    "def eval_test_acc_H1(EPOCHS = 20, BATCH = 32, LEARNING_RATE = 0.001):\n",
    "    test_acc_epoch = []\n",
    "    for epoch in range(EPOCHS):\n",
    "        test_acc = 0    \n",
    "\n",
    "        # shuffle the examples prior to training to remove correlation \n",
    "        test_indices = np.arange(len(X_test)) \n",
    "        np.random.shuffle(test_indices)\n",
    "        for it in range(0, X_test.shape[0], BATCH):\n",
    "            batch = test_indices[it:it+BATCH]\n",
    "            test_prediction = predict_H_1(X_test[batch]).argmax(1)\n",
    "            test_acc += (np.array(test_prediction).flatten() == Y_test[batch]).sum()\n",
    "        test_acc_epoch.append(test_acc/X_test.shape[0])\n",
    "    return test_acc_epoch\n",
    "\n",
    "def eval_test_acc_H2(EPOCHS = 20, BATCH = 32, LEARNING_RATE = 0.001):\n",
    "    test_acc_epoch = []\n",
    "    for epoch in range(EPOCHS):\n",
    "        test_acc = 0    \n",
    "\n",
    "        # shuffle the examples prior to training to remove correlation \n",
    "        test_indices = np.arange(len(X_test)) \n",
    "        np.random.shuffle(test_indices)\n",
    "        for it in range(0, X_test.shape[0], BATCH):\n",
    "            batch = test_indices[it:it+BATCH]\n",
    "            test_prediction = predict_H_2(X_test[batch]).argmax(1)\n",
    "            test_acc += (np.array(test_prediction).flatten() == Y_test[batch]).sum()\n",
    "        test_acc_epoch.append(test_acc/X_test.shape[0])\n",
    "    return test_acc_epoch\n",
    "\n",
    "test_acc_base = eval_test_acc_base()\n",
    "test_acc_h_1 = eval_test_acc_H1()\n",
    "test_acc_h_2 = eval_test_acc_H2()"
   ]
  },
  {
   "cell_type": "code",
   "execution_count": 53,
   "metadata": {},
   "outputs": [
    {
     "name": "stdout",
     "output_type": "stream",
     "text": [
      "0.22783333333333333\n",
      "0.429\n",
      "0.12416666666666666\n"
     ]
    }
   ],
   "source": [
    "print(np.max(test_acc_base))\n",
    "print(np.max(test_acc_h_1))\n",
    "print(np.max(test_acc_h_2))"
   ]
  },
  {
   "cell_type": "markdown",
   "metadata": {},
   "source": [
    "We should pick model with H1 hyper parameters since it yields most accurate result among all other hyperparameter that I've declared earlier"
   ]
  },
  {
   "cell_type": "code",
   "execution_count": null,
   "metadata": {},
   "outputs": [],
   "source": [
    "#H_1 = {batch size: 32, learning rate: 0.001, optimizer: \"adam\", # of outputs of conv layer1: 16} \n",
    "#H_2 = {batch size: 64, learning rate: 0.01, optimizer: \"LARS\", # of outputs of conv layer1: 32} "
   ]
  },
  {
   "cell_type": "markdown",
   "metadata": {
    "id": "_XOXmJiGZF78"
   },
   "source": [
    "You have now completed Part 2 of the assignment. Good job!\n"
   ]
  },
  {
   "cell_type": "markdown",
   "metadata": {
    "id": "cno9fjO1o2Jq"
   },
   "source": [
    "## **Part 3. Trying Out a New Dataset**\n",
    "\n",
    "See the handout for instructions.\n"
   ]
  },
  {
   "cell_type": "markdown",
   "metadata": {},
   "source": [
    "## 1. (1 point) Import and partition your data."
   ]
  },
  {
   "cell_type": "code",
   "execution_count": 22,
   "metadata": {},
   "outputs": [],
   "source": [
    "#.load_data() by default returns a split between training and test set. \n",
    "# We then adjust the training set into a format that can be accepted by our CNN\n",
    "(X_train_3, Y_train_3), (X_test_3, Y_test_3) = tf.keras.datasets.fashion_mnist.load_data()\n",
    "X_train_3 = X_train_3/ 255.0\n",
    "Y_train_3 = Y_train_3.flatten()\n",
    "X_test_3 = X_test_3/ 255.0\n",
    "Y_test_3 = Y_test_3.flatten()\n",
    "\n",
    "np.random.seed(1)\n",
    "# To create a validation set, we first concate the original splitted dataset into a single dataset \n",
    "# then randomly shuffle the images and labels in the same way (seed = 1)\n",
    "X_data_3 = np.concatenate([X_train_3, X_test_3], axis = 0)\n",
    "Y_data_3 = np.concatenate([Y_train_3, Y_test_3], axis = 0)\n",
    "\n",
    "N_3 = np.arange(len(X_data_3))\n",
    "np.random.shuffle(N_3)\n",
    "X_data_3 = X_data_3[N_3]\n",
    "Y_data_3 = Y_data_3[N_3]\n",
    "\n",
    "#Next, we partition the randomly shuffled dataset into training, validation and testset according a ratio\n",
    "train_ratio_3 = 0.80\n",
    "valid_ratio_3 = 0.1\n",
    "n_train_3 = int(len(X_data_3) * train_ratio_3)\n",
    "n_valid_3 = int(len(X_data_3) * valid_ratio_3)\n",
    "\n",
    "X_train_3, X_valid_3, X_test_3 = np.expand_dims(X_data_3[:n_train_3],1), np.expand_dims(X_data_3[n_train_3:n_train_3+n_valid_3],1), np.expand_dims(X_data_3[n_train_3+n_valid_3:],1)\n",
    "Y_train_3, Y_valid_3, Y_test_3 = Y_data_3[:n_train_3], Y_data_3[n_train_3:n_train_3+n_valid_3], Y_data_3[n_train_3+n_valid_3:]"
   ]
  },
  {
   "cell_type": "markdown",
   "metadata": {},
   "source": [
    "## 2. (1 point) Create a base model to start out with"
   ]
  },
  {
   "cell_type": "code",
   "execution_count": 34,
   "metadata": {},
   "outputs": [],
   "source": [
    "class ConvNet_P_3_base(objax.Module):\n",
    "  def __init__(self, number_of_channels = 1, number_of_classes = 100):\n",
    "    self.conv_1 = objax.nn.Sequential([objax.nn.Conv2D(number_of_channels, 16, 2), objax.functional.relu])\n",
    "    self.conv_2 = objax.nn.Sequential([objax.nn.Conv2D(16, 32, 2), objax.functional.relu])\n",
    "    self.linear = objax.nn.Linear(32, number_of_classes)\n",
    "\n",
    "  def __call__(self, x):\n",
    "    x = objax.functional.max_pool_2d(self.conv_1(x), 2, 2)\n",
    "    x = self.conv_2(x)\n",
    "  \n",
    "    x = x.mean((2,3))\n",
    "    x = self.linear(x)\n",
    "    return x\n",
    "\n",
    "class ConvNet_P_3_1(objax.Module):\n",
    "  def __init__(self, number_of_channels = 1, number_of_classes = 100):\n",
    "    self.conv_1 = objax.nn.Sequential([objax.nn.Conv2D(number_of_channels, 16, 2), objax.functional.relu])\n",
    "    self.conv_2 = objax.nn.Sequential([objax.nn.Conv2D(16, 32, 2), objax.functional.relu])\n",
    "    self.linear = objax.nn.Linear(32, number_of_classes)\n",
    "\n",
    "  def __call__(self, x):\n",
    "    x = objax.functional.max_pool_2d(self.conv_1(x), 2, 2)\n",
    "    x = self.conv_2(x)\n",
    "  \n",
    "    x = x.mean((2,3))\n",
    "    x = self.linear(x)\n",
    "    return x\n",
    "  \n",
    "class ConvNet_P_3_2(objax.Module):\n",
    "  def __init__(self, number_of_channels = 1, number_of_classes = 100):\n",
    "    self.conv_1 = objax.nn.Sequential([objax.nn.Conv2D(number_of_channels, 16, 2), objax.functional.relu])\n",
    "    self.conv_2 = objax.nn.Sequential([objax.nn.Conv2D(16, 16, 2), objax.functional.relu])\n",
    "    self.conv_3 = objax.nn.Sequential([objax.nn.Conv2D(16, 32, 2), objax.functional.relu])\n",
    "    self.linear = objax.nn.Linear(32, number_of_classes)\n",
    "\n",
    "  def __call__(self, x):\n",
    "    x = objax.functional.max_pool_2d(self.conv_1(x), 2, 2)\n",
    "    x = self.conv_2(x)\n",
    "\n",
    "    x = objax.functional.max_pool_2d(self.conv_2(x), 2, 2)\n",
    "    x = self.conv_3(x)\n",
    "  \n",
    "    x = x.mean((2,3))\n",
    "    x = self.linear(x)\n",
    "    return x\n",
    "\n",
    "model_P_3_base = ConvNet_P_3_base()\n",
    "model_P_3_1 = ConvNet_P_3_1()\n",
    "model_P_3_2 = ConvNet_P_3_2()"
   ]
  },
  {
   "cell_type": "markdown",
   "metadata": {},
   "source": [
    "## 3. (3 points) Pick several hyperparameters you would like to tune and train a model until its validation accuracy is 5-10% better than the base model. Provide a succinct discussion on your design procedure: which hyperparameters you tuned, what is the new validation accuracy."
   ]
  },
  {
   "cell_type": "markdown",
   "metadata": {},
   "source": [
    "## P_3_1 = {epoch: 50, learning rate: 0.01, # of conv layer: 2, batch_size: 32} \n",
    "## P_3_2 = {epoch: 20, learning rate: 0.001, # of conv layer: 3, batch_size: 40} "
   ]
  },
  {
   "cell_type": "code",
   "execution_count": 35,
   "metadata": {},
   "outputs": [],
   "source": [
    "#Define loss function as averaged value of of cross entropies\n",
    "def loss_function_P_3_base(x, labels):\n",
    "    logit = model_P_3_base(x)\n",
    "    return objax.functional.loss.cross_entropy_logits_sparse(logit, labels).mean()\n",
    "    \n",
    "def loss_function_P_3_1(x, labels):\n",
    "    logit = model_P_3_1(x)\n",
    "    return objax.functional.loss.cross_entropy_logits_sparse(logit, labels).mean()\n",
    "\n",
    "def loss_function_P_3_2(x, labels):\n",
    "    logit = model_P_3_2(x)\n",
    "    return objax.functional.loss.cross_entropy_logits_sparse(logit, labels).mean()\n",
    "\n",
    "\n",
    "#Optimizers\n",
    "\n",
    "opt_P_3_base = objax.optimizer.Adam(model_P_3_base.vars())\n",
    "opt_P_3_1 = objax.optimizer.Adam(model_P_3_1.vars())\n",
    "opt_P_3_2 = objax.optimizer.Adam(model_P_3_2.vars())\n",
    "\n",
    "\n",
    "#Define a prediction function\n",
    "predict_P_3_base = objax.Jit(lambda x: objax.functional.softmax(model_P_3_base(x)), model_P_3_base.vars()) \n",
    "predict_P_3_1 = objax.Jit(lambda x: objax.functional.softmax(model_P_3_1(x)), model_P_3_1.vars()) \n",
    "predict_P_3_2 = objax.Jit(lambda x: objax.functional.softmax(model_P_3_2(x)), model_P_3_2.vars()) \n",
    "\n",
    "#Create an object that can be used to calculate the gradient and value of loss_function\n",
    "gv_P_3_base= objax.GradValues(loss_function_P_3_base, model_P_3_base.vars())\n",
    "gv_P_3_1= objax.GradValues(loss_function_P_3_1, model_P_3_1.vars())\n",
    "gv_P_3_2= objax.GradValues(loss_function_P_3_2, model_P_3_2.vars())\n",
    "\n",
    "#Create an object that can be used to provide trainable variables in the model\n",
    "tv_P_3_base = objax.ModuleList(objax.TrainRef(x) for x in model_P_3_base.vars().subset(objax.TrainVar))\n",
    "tv_P_3_1 = objax.ModuleList(objax.TrainRef(x) for x in model_P_3_1.vars().subset(objax.TrainVar))\n",
    "tv_P_3_2 = objax.ModuleList(objax.TrainRef(x) for x in model_P_3_2.vars().subset(objax.TrainVar))\n",
    "\n",
    "#Training routine\n",
    "def train_op_P_3_base(x, y, learning_rate):\n",
    "    lr = learning_rate\n",
    "    gradient, loss_value = gv_P_3_base(x, y)\n",
    "    opt_P_3_base(lr,gradient)\n",
    "    return loss_value        \n",
    "\n",
    "def train_op_P_3_1(x, y, learning_rate):\n",
    "    lr = learning_rate\n",
    "    gradient, loss_value = gv_P_3_1(x, y)\n",
    "    opt_P_3_1(lr,gradient)\n",
    "    return loss_value           \n",
    "\n",
    "def train_op_P_3_2(x, y, learning_rate):\n",
    "    lr = learning_rate\n",
    "    gradient, loss_value = gv_P_3_2(x, y)\n",
    "    opt_P_3_2(lr,gradient)\n",
    "    return loss_value              \n",
    "\n",
    "train_op_P_3_base = objax.Jit(train_op_P_3_base, gv_P_3_base.vars() + tv_P_3_base.vars())\n",
    "train_op_P_3_1 = objax.Jit(train_op_P_3_1, gv_P_3_1.vars() + tv_P_3_1.vars())\n",
    "train_op_P_3_2 = objax.Jit(train_op_P_3_2, gv_P_3_2.vars() + tv_P_3_2.vars())"
   ]
  },
  {
   "cell_type": "code",
   "execution_count": 25,
   "metadata": {},
   "outputs": [],
   "source": [
    "def train_P_3_base(EPOCHS = 20, BATCH = 32, LEARNING_RATE = 0.001):\n",
    "  avg_train_loss_epoch = []\n",
    "  avg_val_loss_epoch = []\n",
    "  train_acc_epoch = []\n",
    "  val_acc_epoch = []\n",
    "\n",
    "  for epoch in range(EPOCHS):\n",
    "      avg_train_loss = 0 # (averaged) training loss per batch\n",
    "      avg_val_loss =  0  # (averaged) validation loss per batch\n",
    "      train_acc = 0      # training accuracy per batch\n",
    "      val_acc = 0        # validation accuracy per batch\n",
    "\n",
    "      # shuffle the examples prior to training to remove correlation \n",
    "      train_indices = np.arange(len(X_train)) \n",
    "      np.random.shuffle(train_indices)\n",
    "      for it in range(0, X_train.shape[0], BATCH):\n",
    "        #   print(X_train[0].shape)\n",
    "          batch = train_indices[it:it+BATCH]\n",
    "          avg_train_loss += float(train_op_P_3_base(X_train_3[batch], Y_train_3[batch], LEARNING_RATE)[0]) * len(batch)\n",
    "          train_prediction = predict_P_3_base(X_train_3[batch]).argmax(1)\n",
    "          train_acc += (np.array(train_prediction).flatten() == Y_train_3[batch]).sum()\n",
    "      train_acc_epoch.append(train_acc/X_train_3.shape[0])\n",
    "      avg_train_loss_epoch.append(avg_train_loss/X_train_3.shape[0])\n",
    "\n",
    "      # run validation\n",
    "      val_indices = np.arange(len(X_valid_3)) \n",
    "      np.random.shuffle(val_indices)    \n",
    "      for it in range(0, X_valid_3.shape[0], BATCH):\n",
    "          batch = val_indices[it:it+BATCH]\n",
    "          avg_val_loss += float(loss_function_P_3_base(X_valid_3[batch], Y_valid_3[batch])) * len(batch)\n",
    "          val_prediction = predict_P_3_base(X_valid_3[batch]).argmax(1)\n",
    "          val_acc += (np.array(val_prediction).flatten() == Y_valid_3[batch]).sum()\n",
    "      val_acc_epoch.append(val_acc/X_valid_3.shape[0])\n",
    "      avg_val_loss_epoch.append(avg_val_loss/X_valid_3.shape[0])\n",
    "\n",
    "      print('Epoch %04d  Training Loss %.2f Validation Loss %.2f Training Accuracy %.2f Validation Accuracy %.2f' % (epoch + 1, avg_train_loss/X_train.shape[0], avg_val_loss/X_valid.shape[0], 100*train_acc/X_train.shape[0], 100*val_acc/X_valid.shape[0]))\n",
    "  \n",
    "  #Plot training loss\n",
    "  plt.title(\"Train vs Validation Loss\")\n",
    "  plt.plot(avg_train_loss_epoch, label=\"Train\")\n",
    "  plt.plot(avg_val_loss_epoch, label=\"Validation\")\n",
    "  plt.xlabel(\"Epoch\")\n",
    "  plt.ylabel(\"Loss\")\n",
    "  plt.legend(loc='best')\n",
    "  plt.show()\n",
    "\n",
    "  plt.title(\"Train vs Validation Accuracy\")\n",
    "  plt.plot(train_acc_epoch, label=\"Train\")\n",
    "  plt.plot(val_acc_epoch, label=\"Validation\")\n",
    "  plt.xlabel(\"Epoch\")\n",
    "  plt.ylabel(\"Accuracy (%)\")\n",
    "  plt.legend(loc='best')\n",
    "  plt.show()\n",
    "  return (train_acc_epoch, val_acc_epoch)\n",
    "\n",
    "def train_P_3_1(EPOCHS = 50, BATCH = 32, LEARNING_RATE = 0.01):\n",
    "  avg_train_loss_epoch = []\n",
    "  avg_val_loss_epoch = []\n",
    "  train_acc_epoch = []\n",
    "  val_acc_epoch = []\n",
    "\n",
    "  for epoch in range(EPOCHS):\n",
    "      avg_train_loss = 0 # (averaged) training loss per batch\n",
    "      avg_val_loss =  0  # (averaged) validation loss per batch\n",
    "      train_acc = 0      # training accuracy per batch\n",
    "      val_acc = 0        # validation accuracy per batch\n",
    "\n",
    "      # shuffle the examples prior to training to remove correlation \n",
    "      train_indices = np.arange(len(X_train)) \n",
    "      np.random.shuffle(train_indices)\n",
    "      for it in range(0, X_train.shape[0], BATCH):\n",
    "        #   print(X_train[0].shape)\n",
    "          batch = train_indices[it:it+BATCH]\n",
    "          avg_train_loss += float(train_op_P_3_1(X_train_3[batch], Y_train_3[batch], LEARNING_RATE)[0]) * len(batch)\n",
    "          train_prediction = predict_P_3_1(X_train_3[batch]).argmax(1)\n",
    "          train_acc += (np.array(train_prediction).flatten() == Y_train_3[batch]).sum()\n",
    "      train_acc_epoch.append(train_acc/X_train_3.shape[0])\n",
    "      avg_train_loss_epoch.append(avg_train_loss/X_train_3.shape[0])\n",
    "\n",
    "      # run validation\n",
    "      val_indices = np.arange(len(X_valid_3)) \n",
    "      np.random.shuffle(val_indices)    \n",
    "      for it in range(0, X_valid_3.shape[0], BATCH):\n",
    "          batch = val_indices[it:it+BATCH]\n",
    "          avg_val_loss += float(loss_function_P_3_1(X_valid_3[batch], Y_valid_3[batch])) * len(batch)\n",
    "          val_prediction = predict_P_3_1(X_valid_3[batch]).argmax(1)\n",
    "          val_acc += (np.array(val_prediction).flatten() == Y_valid_3[batch]).sum()\n",
    "      val_acc_epoch.append(val_acc/X_valid_3.shape[0])\n",
    "      avg_val_loss_epoch.append(avg_val_loss/X_valid_3.shape[0])\n",
    "\n",
    "      print('Epoch %04d  Training Loss %.2f Validation Loss %.2f Training Accuracy %.2f Validation Accuracy %.2f' % (epoch + 1, avg_train_loss/X_train.shape[0], avg_val_loss/X_valid.shape[0], 100*train_acc/X_train.shape[0], 100*val_acc/X_valid.shape[0]))\n",
    "  \n",
    "  #Plot training loss\n",
    "  plt.title(\"Train vs Validation Loss\")\n",
    "  plt.plot(avg_train_loss_epoch, label=\"Train\")\n",
    "  plt.plot(avg_val_loss_epoch, label=\"Validation\")\n",
    "  plt.xlabel(\"Epoch\")\n",
    "  plt.ylabel(\"Loss\")\n",
    "  plt.legend(loc='best')\n",
    "  plt.show()\n",
    "\n",
    "  plt.title(\"Train vs Validation Accuracy\")\n",
    "  plt.plot(train_acc_epoch, label=\"Train\")\n",
    "  plt.plot(val_acc_epoch, label=\"Validation\")\n",
    "  plt.xlabel(\"Epoch\")\n",
    "  plt.ylabel(\"Accuracy (%)\")\n",
    "  plt.legend(loc='best')\n",
    "  plt.show()\n",
    "  return (train_acc_epoch, val_acc_epoch)\n",
    "\n",
    "\n",
    "def train_P_3_2(EPOCHS = 20, BATCH = 40, LEARNING_RATE = 0.001):\n",
    "  avg_train_loss_epoch = []\n",
    "  avg_val_loss_epoch = []\n",
    "  train_acc_epoch = []\n",
    "  val_acc_epoch = []\n",
    "\n",
    "  for epoch in range(EPOCHS):\n",
    "      avg_train_loss = 0 # (averaged) training loss per batch\n",
    "      avg_val_loss =  0  # (averaged) validation loss per batch\n",
    "      train_acc = 0      # training accuracy per batch\n",
    "      val_acc = 0        # validation accuracy per batch\n",
    "\n",
    "      # shuffle the examples prior to training to remove correlation \n",
    "      train_indices = np.arange(len(X_train)) \n",
    "      np.random.shuffle(train_indices)\n",
    "      for it in range(0, X_train.shape[0], BATCH):\n",
    "        #   print(X_train[0].shape)\n",
    "          batch = train_indices[it:it+BATCH]\n",
    "          avg_train_loss += float(train_op_P_3_2(X_train_3[batch], Y_train_3[batch], LEARNING_RATE)[0]) * len(batch)\n",
    "          train_prediction = predict_P_3_2(X_train_3[batch]).argmax(1)\n",
    "          train_acc += (np.array(train_prediction).flatten() == Y_train_3[batch]).sum()\n",
    "      train_acc_epoch.append(train_acc/X_train_3.shape[0])\n",
    "      avg_train_loss_epoch.append(avg_train_loss/X_train_3.shape[0])\n",
    "\n",
    "      # run validation\n",
    "      val_indices = np.arange(len(X_valid_3)) \n",
    "      np.random.shuffle(val_indices)    \n",
    "      for it in range(0, X_valid_3.shape[0], BATCH):\n",
    "          batch = val_indices[it:it+BATCH]\n",
    "          avg_val_loss += float(loss_function_P_3_2(X_valid_3[batch], Y_valid_3[batch])) * len(batch)\n",
    "          val_prediction = predict_P_3_2(X_valid_3[batch]).argmax(1)\n",
    "          val_acc += (np.array(val_prediction).flatten() == Y_valid_3[batch]).sum()\n",
    "      val_acc_epoch.append(val_acc/X_valid_3.shape[0])\n",
    "      avg_val_loss_epoch.append(avg_val_loss/X_valid_3.shape[0])\n",
    "\n",
    "      print('Epoch %04d  Training Loss %.2f Validation Loss %.2f Training Accuracy %.2f Validation Accuracy %.2f' % (epoch + 1, avg_train_loss/X_train.shape[0], avg_val_loss/X_valid.shape[0], 100*train_acc/X_train.shape[0], 100*val_acc/X_valid.shape[0]))\n",
    "  \n",
    "  #Plot training loss\n",
    "  plt.title(\"Train vs Validation Loss\")\n",
    "  plt.plot(avg_train_loss_epoch, label=\"Train\")\n",
    "  plt.plot(avg_val_loss_epoch, label=\"Validation\")\n",
    "  plt.xlabel(\"Epoch\")\n",
    "  plt.ylabel(\"Loss\")\n",
    "  plt.legend(loc='best')\n",
    "  plt.show()\n",
    "\n",
    "  plt.title(\"Train vs Validation Accuracy\")\n",
    "  plt.plot(train_acc_epoch, label=\"Train\")\n",
    "  plt.plot(val_acc_epoch, label=\"Validation\")\n",
    "  plt.xlabel(\"Epoch\")\n",
    "  plt.ylabel(\"Accuracy (%)\")\n",
    "  plt.legend(loc='best')\n",
    "  plt.show()\n",
    "  return (train_acc_epoch, val_acc_epoch)"
   ]
  },
  {
   "cell_type": "code",
   "execution_count": 209,
   "metadata": {},
   "outputs": [
    {
     "name": "stdout",
     "output_type": "stream",
     "text": [
      "Epoch 0001  Training Loss 2.13 Validation Loss 1.83 Training Accuracy 26.86 Validation Accuracy 32.56\n",
      "Epoch 0002  Training Loss 1.68 Validation Loss 1.49 Training Accuracy 45.44 Validation Accuracy 51.10\n",
      "Epoch 0003  Training Loss 1.40 Validation Loss 1.28 Training Accuracy 55.26 Validation Accuracy 53.97\n",
      "Epoch 0004  Training Loss 1.22 Validation Loss 1.15 Training Accuracy 61.07 Validation Accuracy 58.90\n",
      "Epoch 0005  Training Loss 1.12 Validation Loss 1.06 Training Accuracy 64.87 Validation Accuracy 63.84\n",
      "Epoch 0006  Training Loss 1.05 Validation Loss 1.00 Training Accuracy 67.39 Validation Accuracy 66.20\n",
      "Epoch 0007  Training Loss 1.00 Validation Loss 0.97 Training Accuracy 68.92 Validation Accuracy 64.51\n",
      "Epoch 0008  Training Loss 0.97 Validation Loss 0.92 Training Accuracy 70.39 Validation Accuracy 68.84\n",
      "Epoch 0009  Training Loss 0.94 Validation Loss 0.89 Training Accuracy 71.19 Validation Accuracy 70.04\n",
      "Epoch 0010  Training Loss 0.92 Validation Loss 0.92 Training Accuracy 71.91 Validation Accuracy 66.39\n",
      "Epoch 0011  Training Loss 0.90 Validation Loss 0.86 Training Accuracy 72.75 Validation Accuracy 71.40\n",
      "Epoch 0012  Training Loss 0.88 Validation Loss 0.85 Training Accuracy 73.26 Validation Accuracy 71.04\n",
      "Epoch 0013  Training Loss 0.87 Validation Loss 0.87 Training Accuracy 73.67 Validation Accuracy 68.71\n",
      "Epoch 0014  Training Loss 0.86 Validation Loss 0.86 Training Accuracy 74.01 Validation Accuracy 70.24\n",
      "Epoch 0015  Training Loss 0.84 Validation Loss 0.84 Training Accuracy 74.43 Validation Accuracy 70.33\n",
      "Epoch 0016  Training Loss 0.83 Validation Loss 0.79 Training Accuracy 75.00 Validation Accuracy 72.74\n",
      "Epoch 0017  Training Loss 0.82 Validation Loss 0.80 Training Accuracy 75.29 Validation Accuracy 72.70\n",
      "Epoch 0018  Training Loss 0.81 Validation Loss 0.80 Training Accuracy 75.53 Validation Accuracy 72.80\n",
      "Epoch 0019  Training Loss 0.80 Validation Loss 0.77 Training Accuracy 75.66 Validation Accuracy 72.57\n",
      "Epoch 0020  Training Loss 0.79 Validation Loss 0.77 Training Accuracy 76.26 Validation Accuracy 72.61\n"
     ]
    },
    {
     "data": {
      "image/png": "[encoded data removed]",
      "text/plain": [
       "<Figure size 432x288 with 1 Axes>"
      ]
     },
     "metadata": {
      "needs_background": "light"
     },
     "output_type": "display_data"
    },
    {
     "data": {
      "image/png": "[encoded data removed]",
      "text/plain": [
       "<Figure size 432x288 with 1 Axes>"
      ]
     },
     "metadata": {
      "needs_background": "light"
     },
     "output_type": "display_data"
    }
   ],
   "source": [
    "train_acc_P_3_base, val_acc_P_3_base = train_P_3_base()"
   ]
  },
  {
   "cell_type": "code",
   "execution_count": null,
   "metadata": {},
   "outputs": [],
   "source": [
    "print(np.max(train_acc_P_3_base), np.where(train_acc_P_3_base == np.max(train_acc_P_3_base))[0])\n",
    "print(np.max(val_acc_P_3_base), np.where(val_acc_P_3_base == np.max(val_acc_P_3_base))[0])"
   ]
  },
  {
   "cell_type": "code",
   "execution_count": 27,
   "metadata": {},
   "outputs": [
    {
     "name": "stdout",
     "output_type": "stream",
     "text": [
      "Epoch 0001  Training Loss 1.40 Validation Loss 1.24 Training Accuracy 53.99 Validation Accuracy 69.52\n",
      "Epoch 0002  Training Loss 1.11 Validation Loss 1.15 Training Accuracy 63.19 Validation Accuracy 75.75\n",
      "Epoch 0003  Training Loss 1.03 Validation Loss 1.05 Training Accuracy 68.01 Validation Accuracy 78.75\n",
      "Epoch 0004  Training Loss 0.93 Validation Loss 0.99 Training Accuracy 72.98 Validation Accuracy 80.12\n",
      "Epoch 0005  Training Loss 0.89 Validation Loss 0.99 Training Accuracy 75.32 Validation Accuracy 81.72\n",
      "Epoch 0006  Training Loss 0.80 Validation Loss 0.90 Training Accuracy 78.04 Validation Accuracy 88.05\n",
      "Epoch 0007  Training Loss 0.83 Validation Loss 1.12 Training Accuracy 77.68 Validation Accuracy 81.02\n",
      "Epoch 0008  Training Loss 0.90 Validation Loss 1.08 Training Accuracy 76.59 Validation Accuracy 84.72\n",
      "Epoch 0009  Training Loss 0.97 Validation Loss 0.94 Training Accuracy 75.22 Validation Accuracy 86.52\n",
      "Epoch 0010  Training Loss 0.90 Validation Loss 1.01 Training Accuracy 77.71 Validation Accuracy 84.68\n",
      "Epoch 0011  Training Loss 0.90 Validation Loss 0.80 Training Accuracy 77.74 Validation Accuracy 91.15\n",
      "Epoch 0012  Training Loss 0.87 Validation Loss 0.91 Training Accuracy 78.86 Validation Accuracy 86.18\n",
      "Epoch 0013  Training Loss 0.86 Validation Loss 0.83 Training Accuracy 79.30 Validation Accuracy 90.67\n",
      "Epoch 0014  Training Loss 0.85 Validation Loss 1.09 Training Accuracy 80.25 Validation Accuracy 85.47\n",
      "Epoch 0015  Training Loss 0.88 Validation Loss 1.27 Training Accuracy 80.21 Validation Accuracy 81.37\n",
      "Epoch 0016  Training Loss 0.89 Validation Loss 0.86 Training Accuracy 79.87 Validation Accuracy 90.13\n",
      "Epoch 0017  Training Loss 0.87 Validation Loss 0.92 Training Accuracy 79.86 Validation Accuracy 86.98\n",
      "Epoch 0018  Training Loss 0.82 Validation Loss 0.79 Training Accuracy 80.86 Validation Accuracy 92.55\n",
      "Epoch 0019  Training Loss 0.79 Validation Loss 0.80 Training Accuracy 80.82 Validation Accuracy 91.30\n",
      "Epoch 0020  Training Loss 0.78 Validation Loss 1.15 Training Accuracy 81.31 Validation Accuracy 80.28\n",
      "Epoch 0021  Training Loss 0.85 Validation Loss 0.96 Training Accuracy 79.26 Validation Accuracy 89.73\n",
      "Epoch 0022  Training Loss 1.03 Validation Loss 1.38 Training Accuracy 76.68 Validation Accuracy 86.28\n",
      "Epoch 0023  Training Loss 1.10 Validation Loss 1.24 Training Accuracy 75.69 Validation Accuracy 87.20\n",
      "Epoch 0024  Training Loss 0.95 Validation Loss 1.19 Training Accuracy 78.30 Validation Accuracy 82.18\n",
      "Epoch 0025  Training Loss 0.83 Validation Loss 0.82 Training Accuracy 80.63 Validation Accuracy 90.42\n",
      "Epoch 0026  Training Loss 0.75 Validation Loss 0.80 Training Accuracy 81.96 Validation Accuracy 91.17\n",
      "Epoch 0027  Training Loss 0.76 Validation Loss 0.75 Training Accuracy 81.96 Validation Accuracy 94.25\n",
      "Epoch 0028  Training Loss 0.76 Validation Loss 0.71 Training Accuracy 82.39 Validation Accuracy 94.82\n",
      "Epoch 0029  Training Loss 0.76 Validation Loss 0.73 Training Accuracy 82.49 Validation Accuracy 95.20\n",
      "Epoch 0030  Training Loss 0.72 Validation Loss 0.79 Training Accuracy 83.08 Validation Accuracy 92.27\n",
      "Epoch 0031  Training Loss 0.74 Validation Loss 0.83 Training Accuracy 82.98 Validation Accuracy 92.30\n",
      "Epoch 0032  Training Loss 0.73 Validation Loss 0.73 Training Accuracy 83.12 Validation Accuracy 94.45\n",
      "Epoch 0033  Training Loss 0.73 Validation Loss 0.93 Training Accuracy 83.16 Validation Accuracy 88.55\n",
      "Epoch 0034  Training Loss 0.78 Validation Loss 0.87 Training Accuracy 82.22 Validation Accuracy 89.68\n",
      "Epoch 0035  Training Loss 0.79 Validation Loss 0.79 Training Accuracy 82.15 Validation Accuracy 91.72\n",
      "Epoch 0036  Training Loss 0.82 Validation Loss 0.88 Training Accuracy 81.69 Validation Accuracy 92.20\n",
      "Epoch 0037  Training Loss 0.91 Validation Loss 1.04 Training Accuracy 80.33 Validation Accuracy 88.35\n",
      "Epoch 0038  Training Loss 0.93 Validation Loss 0.96 Training Accuracy 80.11 Validation Accuracy 88.68\n",
      "Epoch 0039  Training Loss 0.86 Validation Loss 0.77 Training Accuracy 81.42 Validation Accuracy 95.12\n",
      "Epoch 0040  Training Loss 0.76 Validation Loss 0.77 Training Accuracy 82.75 Validation Accuracy 93.00\n",
      "Epoch 0041  Training Loss 0.74 Validation Loss 0.77 Training Accuracy 83.35 Validation Accuracy 91.42\n",
      "Epoch 0042  Training Loss 0.75 Validation Loss 0.83 Training Accuracy 82.99 Validation Accuracy 93.20\n",
      "Epoch 0043  Training Loss 0.81 Validation Loss 1.23 Training Accuracy 81.84 Validation Accuracy 85.87\n",
      "Epoch 0044  Training Loss 0.80 Validation Loss 1.14 Training Accuracy 82.11 Validation Accuracy 85.40\n",
      "Epoch 0045  Training Loss 0.81 Validation Loss 1.00 Training Accuracy 82.58 Validation Accuracy 88.40\n",
      "Epoch 0046  Training Loss 0.77 Validation Loss 0.75 Training Accuracy 83.57 Validation Accuracy 93.83\n",
      "Epoch 0047  Training Loss 0.76 Validation Loss 0.72 Training Accuracy 83.50 Validation Accuracy 93.38\n",
      "Epoch 0048  Training Loss 0.72 Validation Loss 0.77 Training Accuracy 83.95 Validation Accuracy 94.28\n",
      "Epoch 0049  Training Loss 0.77 Validation Loss 0.82 Training Accuracy 83.41 Validation Accuracy 92.73\n",
      "Epoch 0050  Training Loss 0.80 Validation Loss 0.86 Training Accuracy 82.34 Validation Accuracy 91.57\n"
     ]
    },
    {
     "data": {
      "image/png": "[encoded data removed]",
      "text/plain": [
       "<Figure size 432x288 with 1 Axes>"
      ]
     },
     "metadata": {
      "needs_background": "light"
     },
     "output_type": "display_data"
    },
    {
     "data": {
      "image/png": "[encoded data removed]",
      "text/plain": [
       "<Figure size 432x288 with 1 Axes>"
      ]
     },
     "metadata": {
      "needs_background": "light"
     },
     "output_type": "display_data"
    }
   ],
   "source": [
    "train_acc_P_3_1, val_acc_P_3_1 = train_P_3_1()"
   ]
  },
  {
   "cell_type": "code",
   "execution_count": 28,
   "metadata": {},
   "outputs": [
    {
     "name": "stdout",
     "output_type": "stream",
     "text": [
      "0.7195357142857143 [47]\n",
      "0.816 [28]\n"
     ]
    }
   ],
   "source": [
    "print(np.max(train_acc_P_3_1), np.where(train_acc_P_3_1 == np.max(train_acc_P_3_1))[0])\n",
    "print(np.max(val_acc_P_3_1), np.where(val_acc_P_3_1 == np.max(val_acc_P_3_1))[0])"
   ]
  },
  {
   "cell_type": "code",
   "execution_count": 29,
   "metadata": {},
   "outputs": [
    {
     "name": "stdout",
     "output_type": "stream",
     "text": [
      "Epoch 0001  Training Loss 1.66 Validation Loss 1.36 Training Accuracy 47.36 Validation Accuracy 61.92\n",
      "Epoch 0002  Training Loss 1.07 Validation Loss 1.16 Training Accuracy 65.96 Validation Accuracy 72.10\n",
      "Epoch 0003  Training Loss 0.92 Validation Loss 1.03 Training Accuracy 71.27 Validation Accuracy 77.15\n",
      "Epoch 0004  Training Loss 0.82 Validation Loss 0.96 Training Accuracy 74.95 Validation Accuracy 81.07\n",
      "Epoch 0005  Training Loss 0.75 Validation Loss 0.83 Training Accuracy 76.86 Validation Accuracy 86.90\n",
      "Epoch 0006  Training Loss 0.72 Validation Loss 0.75 Training Accuracy 78.16 Validation Accuracy 90.38\n",
      "Epoch 0007  Training Loss 0.69 Validation Loss 0.75 Training Accuracy 79.32 Validation Accuracy 88.53\n",
      "Epoch 0008  Training Loss 0.66 Validation Loss 0.73 Training Accuracy 80.47 Validation Accuracy 90.87\n",
      "Epoch 0009  Training Loss 0.65 Validation Loss 0.80 Training Accuracy 80.91 Validation Accuracy 86.73\n",
      "Epoch 0010  Training Loss 0.62 Validation Loss 0.66 Training Accuracy 81.88 Validation Accuracy 94.18\n",
      "Epoch 0011  Training Loss 0.60 Validation Loss 0.66 Training Accuracy 82.66 Validation Accuracy 93.80\n",
      "Epoch 0012  Training Loss 0.59 Validation Loss 0.61 Training Accuracy 83.42 Validation Accuracy 95.30\n",
      "Epoch 0013  Training Loss 0.57 Validation Loss 0.69 Training Accuracy 84.04 Validation Accuracy 92.38\n",
      "Epoch 0014  Training Loss 0.56 Validation Loss 0.69 Training Accuracy 84.22 Validation Accuracy 92.00\n",
      "Epoch 0015  Training Loss 0.56 Validation Loss 0.60 Training Accuracy 84.58 Validation Accuracy 96.38\n",
      "Epoch 0016  Training Loss 0.56 Validation Loss 0.58 Training Accuracy 84.93 Validation Accuracy 96.50\n",
      "Epoch 0017  Training Loss 0.55 Validation Loss 0.63 Training Accuracy 84.90 Validation Accuracy 95.38\n",
      "Epoch 0018  Training Loss 0.55 Validation Loss 0.60 Training Accuracy 84.89 Validation Accuracy 95.97\n",
      "Epoch 0019  Training Loss 0.55 Validation Loss 0.69 Training Accuracy 84.94 Validation Accuracy 93.73\n",
      "Epoch 0020  Training Loss 0.54 Validation Loss 0.62 Training Accuracy 85.20 Validation Accuracy 94.30\n"
     ]
    },
    {
     "data": {
      "image/png": "[encoded data removed]",
      "text/plain": [
       "<Figure size 432x288 with 1 Axes>"
      ]
     },
     "metadata": {
      "needs_background": "light"
     },
     "output_type": "display_data"
    },
    {
     "data": {
      "image/png": "[encoded data removed]",
      "text/plain": [
       "<Figure size 432x288 with 1 Axes>"
      ]
     },
     "metadata": {
      "needs_background": "light"
     },
     "output_type": "display_data"
    }
   ],
   "source": [
    "train_acc_P_3_2, val_acc_P_3_2 = train_P_3_2()"
   ]
  },
  {
   "cell_type": "code",
   "execution_count": 30,
   "metadata": {},
   "outputs": [
    {
     "name": "stdout",
     "output_type": "stream",
     "text": [
      "0.7303035714285714 [19]\n",
      "0.8271428571428572 [15]\n"
     ]
    }
   ],
   "source": [
    "print(np.max(train_acc_P_3_2), np.where(train_acc_P_3_2 == np.max(train_acc_P_3_2))[0])\n",
    "print(np.max(val_acc_P_3_2), np.where(val_acc_P_3_2 == np.max(val_acc_P_3_2))[0])"
   ]
  },
  {
   "cell_type": "markdown",
   "metadata": {},
   "source": [
    "## 4. (1 point) Select your final model and report test accuracy."
   ]
  },
  {
   "cell_type": "code",
   "execution_count": 39,
   "metadata": {},
   "outputs": [],
   "source": [
    "def eval_test_acc_P_3(EPOCHS = 50, BATCH = 32, LEARNING_RATE = 0.001):\n",
    "    test_acc_epoch = []\n",
    "    for epoch in range(EPOCHS):\n",
    "        test_acc = 0    \n",
    "\n",
    "        # shuffle the examples prior to training to remove correlation \n",
    "        test_indices = np.arange(len(X_test_3)) \n",
    "        np.random.shuffle(test_indices)\n",
    "        for it in range(0, X_test_3.shape[0], BATCH):\n",
    "            batch = test_indices[it:it+BATCH]\n",
    "            test_prediction = predict_P_3_1(X_test_3[batch]).argmax(1)\n",
    "            test_acc += (np.array(test_prediction).flatten() == Y_test_3[batch]).sum()\n",
    "        test_acc_epoch.append(test_acc/X_test_3.shape[0])\n",
    "    return test_acc_epoch\n",
    "\n",
    "test_acc_P_3 = eval_test_acc_P_3()"
   ]
  },
  {
   "cell_type": "markdown",
   "metadata": {},
   "source": [
    "## final model:\n",
    "P_3_1 = {epoch: 50, learning rate: 0.01, # of conv layer: 2, batch_size: 32} \n",
    "test_accuracy: 82%"
   ]
  },
  {
   "cell_type": "markdown",
   "metadata": {
    "id": "Eye-uBnQWgc8"
   },
   "source": [
    "## **Problem 4. Open-Ended Exploration**\n",
    "\n",
    "See the handout for instructions."
   ]
  },
  {
   "cell_type": "markdown",
   "metadata": {},
   "source": [
    "## 1. Additional hyperparameter tuning"
   ]
  },
  {
   "cell_type": "markdown",
   "metadata": {},
   "source": [
    "In this part of the problem I tested the impact of changing kernel size of the convolution impacting the accuracy of the model. To do this, 3 different models with differnet kernel values were used. Since I wanted to get most accurate result in this activity the knowledge of hyperparameter tuning in previous questions were used. For instance, the adam optimizer resulted in most accurate results in activity 2 so we kept this for this exercise. "
   ]
  },
  {
   "cell_type": "code",
   "execution_count": 40,
   "metadata": {},
   "outputs": [],
   "source": [
    "class ConvNet_P4_1(objax.Module):\n",
    "  def __init__(self, number_of_channels = 3, number_of_classes = 10):\n",
    "    self.conv_1 = objax.nn.Sequential([objax.nn.Conv2D(number_of_channels, 16, 5), objax.functional.relu])\n",
    "    self.conv_2 = objax.nn.Sequential([objax.nn.Conv2D(16, 32, 5), objax.functional.relu])\n",
    "    self.linear = objax.nn.Linear(32, number_of_classes)\n",
    "\n",
    "  def __call__(self, x):\n",
    "    x = objax.functional.max_pool_2d(self.conv_1(x), 2, 2)\n",
    "    x = self.conv_2(x)\n",
    "  \n",
    "    x = x.mean((2,3)) #<--- global average pooling \n",
    "    x = self.linear(x)\n",
    "    return x\n",
    "\n",
    "class ConvNet_P4_2(objax.Module):\n",
    "  def __init__(self, number_of_channels = 3, number_of_classes = 10):\n",
    "    self.conv_1 = objax.nn.Sequential([objax.nn.Conv2D(number_of_channels, 16, 7), objax.functional.relu])\n",
    "    self.conv_2 = objax.nn.Sequential([objax.nn.Conv2D(16, 32, 7), objax.functional.relu])\n",
    "    self.linear = objax.nn.Linear(32, number_of_classes)\n",
    "\n",
    "  def __call__(self, x):\n",
    "    x = objax.functional.max_pool_2d(self.conv_1(x), 2, 2)\n",
    "    x = self.conv_2(x)\n",
    "  \n",
    "    x = x.mean((2,3)) #<--- global average pooling \n",
    "    x = self.linear(x)\n",
    "    return x\n",
    "\n",
    "#The following line creates the CNN\n",
    "model_1 = ConvNet_P4_1()\n",
    "model_2 = ConvNet_P4_2()\n",
    "#You can examine the architecture of our CNN by calling model.vars()"
   ]
  },
  {
   "cell_type": "code",
   "execution_count": 41,
   "metadata": {},
   "outputs": [],
   "source": [
    "#Define loss function as averaged value of of cross entropies\n",
    "def loss_function_1(x, labels):\n",
    "    logit = model_1(x)\n",
    "    return objax.functional.loss.cross_entropy_logits_sparse(logit, labels).mean()\n",
    "\n",
    "def loss_function_2(x, labels):\n",
    "    logit = model_2(x)\n",
    "    return objax.functional.loss.cross_entropy_logits_sparse(logit, labels).mean()\n",
    "\n",
    "\n",
    "#Optimizers\n",
    "opt_1 = objax.optimizer.Adam(model_1.vars())\n",
    "opt_2 = objax.optimizer.Adam(model_2.vars())\n",
    "\n",
    "\n",
    "#Define a prediction function\n",
    "predict_1 = objax.Jit(lambda x: objax.functional.softmax(model_1(x)), model_1.vars()) \n",
    "predict_2 = objax.Jit(lambda x: objax.functional.softmax(model_2(x)), model_2.vars()) \n",
    "\n",
    "#Create an object that can be used to calculate the gradient and value of loss_function\n",
    "gv_1= objax.GradValues(loss_function_1, model_1.vars())\n",
    "gv_2= objax.GradValues(loss_function_2, model_2.vars())\n",
    "\n",
    "#Create an object that can be used to provide trainable variables in the model\n",
    "tv_1 = objax.ModuleList(objax.TrainRef(x) for x in model_1.vars().subset(objax.TrainVar))\n",
    "tv_2 = objax.ModuleList(objax.TrainRef(x) for x in model_2.vars().subset(objax.TrainVar))\n",
    "\n",
    "#Training routine\n",
    "def train_op_1(x, y, learning_rate):\n",
    "    lr = learning_rate\n",
    "    gradient, loss_value = gv_1(x, y)\n",
    "    opt_1(lr,gradient)\n",
    "    return loss_value           \n",
    "\n",
    "def train_op_2(x, y, learning_rate):\n",
    "    lr = learning_rate\n",
    "    gradient, loss_value = gv_2(x, y)\n",
    "    opt_2(lr,gradient)\n",
    "    return loss_value              \n",
    "\n",
    "\n",
    "train_op_1 = objax.Jit(train_op_1, gv_1.vars() + tv_1.vars())\n",
    "train_op_2 = objax.Jit(train_op_2, gv_2.vars() + tv_2.vars())"
   ]
  },
  {
   "cell_type": "code",
   "execution_count": 42,
   "metadata": {},
   "outputs": [],
   "source": [
    "\n",
    "def train_1(EPOCHS = 50, BATCH = 32, LEARNING_RATE = 0.01):\n",
    "  avg_train_loss_epoch = []\n",
    "  avg_val_loss_epoch = []\n",
    "  train_acc_epoch = []\n",
    "  val_acc_epoch = []\n",
    "\n",
    "  for epoch in range(EPOCHS):\n",
    "      avg_train_loss = 0 # (averaged) training loss per batch\n",
    "      avg_val_loss =  0  # (averaged) validation loss per batch\n",
    "      train_acc = 0      # training accuracy per batch\n",
    "      val_acc = 0        # validation accuracy per batch\n",
    "\n",
    "      # shuffle the examples prior to training to remove correlation \n",
    "      train_indices = np.arange(len(X_train)) \n",
    "      np.random.shuffle(train_indices)\n",
    "      for it in range(0, X_train.shape[0], BATCH):\n",
    "          batch = train_indices[it:it+BATCH]\n",
    "          avg_train_loss += float(train_op_1(X_train[batch], Y_train[batch], LEARNING_RATE)[0]) * len(batch)\n",
    "          train_prediction = predict_1(X_train[batch]).argmax(1)\n",
    "          train_acc += (np.array(train_prediction).flatten() == Y_train[batch]).sum()\n",
    "      train_acc_epoch.append(train_acc/X_train.shape[0])\n",
    "      avg_train_loss_epoch.append(avg_train_loss/X_train.shape[0])\n",
    "\n",
    "      # run validation\n",
    "      val_indices = np.arange(len(X_valid)) \n",
    "      np.random.shuffle(val_indices)    \n",
    "      for it in range(0, X_valid.shape[0], BATCH):\n",
    "          batch = val_indices[it:it+BATCH]\n",
    "          avg_val_loss += float(loss_function_1(X_valid[batch], Y_valid[batch])) * len(batch)\n",
    "          val_prediction = predict_1(X_valid[batch]).argmax(1)\n",
    "          val_acc += (np.array(val_prediction).flatten() == Y_valid[batch]).sum()\n",
    "      val_acc_epoch.append(val_acc/X_valid.shape[0])\n",
    "      avg_val_loss_epoch.append(avg_val_loss/X_valid.shape[0])\n",
    "\n",
    "      print('Epoch %04d  Training Loss %.2f Validation Loss %.2f Training Accuracy %.2f Validation Accuracy %.2f' % (epoch + 1, avg_train_loss/X_train.shape[0], avg_val_loss/X_valid.shape[0], 100*train_acc/X_train.shape[0], 100*val_acc/X_valid.shape[0]))\n",
    "  \n",
    "  #Plot training loss\n",
    "  plt.title(\"Train vs Validation Loss\")\n",
    "  plt.plot(avg_train_loss_epoch, label=\"Train\")\n",
    "  plt.plot(avg_val_loss_epoch, label=\"Validation\")\n",
    "  plt.xlabel(\"Epoch\")\n",
    "  plt.ylabel(\"Loss\")\n",
    "  plt.legend(loc='best')\n",
    "  plt.show()\n",
    "\n",
    "  plt.title(\"Train vs Validation Accuracy\")\n",
    "  plt.plot(train_acc_epoch, label=\"Train\")\n",
    "  plt.plot(val_acc_epoch, label=\"Validation\")\n",
    "  plt.xlabel(\"Epoch\")\n",
    "  plt.ylabel(\"Accuracy (%)\")\n",
    "  plt.legend(loc='best')\n",
    "  plt.show()\n",
    "  return (train_acc_epoch, val_acc_epoch)\n",
    "\n",
    "\n",
    "\n",
    "def train_2(EPOCHS = 50, BATCH = 64, LEARNING_RATE = 0.01):\n",
    "  avg_train_loss_epoch = []\n",
    "  avg_val_loss_epoch = []\n",
    "  train_acc_epoch = []\n",
    "  val_acc_epoch = []\n",
    "\n",
    "  for epoch in range(EPOCHS):\n",
    "      avg_train_loss = 0 # (averaged) training loss per batch\n",
    "      avg_val_loss =  0  # (averaged) validation loss per batch\n",
    "      train_acc = 0      # training accuracy per batch\n",
    "      val_acc = 0        # validation accuracy per batch\n",
    "\n",
    "      # shuffle the examples prior to training to remove correlation \n",
    "      train_indices = np.arange(len(X_train)) \n",
    "      np.random.shuffle(train_indices)\n",
    "      for it in range(0, X_train.shape[0], BATCH):\n",
    "          batch = train_indices[it:it+BATCH]\n",
    "          avg_train_loss += float(train_op_2(X_train[batch], Y_train[batch], LEARNING_RATE)[0]) * len(batch)\n",
    "          train_prediction = predict_2(X_train[batch]).argmax(1)\n",
    "          train_acc += (np.array(train_prediction).flatten() == Y_train[batch]).sum()\n",
    "      train_acc_epoch.append(train_acc/X_train.shape[0])\n",
    "      avg_train_loss_epoch.append(avg_train_loss/X_train.shape[0])\n",
    "\n",
    "      # run validation\n",
    "      val_indices = np.arange(len(X_valid)) \n",
    "      np.random.shuffle(val_indices)    \n",
    "      for it in range(0, X_valid.shape[0], BATCH):\n",
    "          batch = val_indices[it:it+BATCH]\n",
    "          avg_val_loss += float(loss_function_2(X_valid[batch], Y_valid[batch])) * len(batch)\n",
    "          val_prediction = predict_2(X_valid[batch]).argmax(1)\n",
    "          val_acc += (np.array(val_prediction).flatten() == Y_valid[batch]).sum()\n",
    "      val_acc_epoch.append(val_acc/X_valid.shape[0])\n",
    "      avg_val_loss_epoch.append(avg_val_loss/X_valid.shape[0])\n",
    "\n",
    "      print('Epoch %04d  Training Loss %.2f Validation Loss %.2f Training Accuracy %.2f Validation Accuracy %.2f' % (epoch + 1, avg_train_loss/X_train.shape[0], avg_val_loss/X_valid.shape[0], 100*train_acc/X_train.shape[0], 100*val_acc/X_valid.shape[0]))\n",
    "  \n",
    "  #Plot training loss\n",
    "  plt.title(\"Train vs Validation Loss\")\n",
    "  plt.plot(avg_train_loss_epoch, label=\"Train\")\n",
    "  plt.plot(avg_val_loss_epoch, label=\"Validation\")\n",
    "  plt.xlabel(\"Epoch\")\n",
    "  plt.ylabel(\"Loss\")\n",
    "  plt.legend(loc='best')\n",
    "  plt.show()\n",
    "\n",
    "  plt.title(\"Train vs Validation Accuracy\")\n",
    "  plt.plot(train_acc_epoch, label=\"Train\")\n",
    "  plt.plot(val_acc_epoch, label=\"Validation\")\n",
    "  plt.xlabel(\"Epoch\")\n",
    "  plt.ylabel(\"Accuracy (%)\")\n",
    "  plt.legend(loc='best')\n",
    "  plt.show()\n",
    "  return (train_acc_epoch, val_acc_epoch)"
   ]
  },
  {
   "cell_type": "code",
   "execution_count": 43,
   "metadata": {},
   "outputs": [
    {
     "name": "stdout",
     "output_type": "stream",
     "text": [
      "Epoch 0001  Training Loss 6.35 Validation Loss 4.63 Training Accuracy 16.79 Validation Accuracy 13.63\n",
      "Epoch 0002  Training Loss 4.06 Validation Loss 2.40 Training Accuracy 23.13 Validation Accuracy 22.88\n",
      "Epoch 0003  Training Loss 2.53 Validation Loss 2.39 Training Accuracy 32.86 Validation Accuracy 26.18\n",
      "Epoch 0004  Training Loss 2.20 Validation Loss 2.71 Training Accuracy 38.10 Validation Accuracy 26.22\n",
      "Epoch 0005  Training Loss 2.29 Validation Loss 1.88 Training Accuracy 39.15 Validation Accuracy 36.57\n",
      "Epoch 0006  Training Loss 2.40 Validation Loss 2.35 Training Accuracy 39.77 Validation Accuracy 30.80\n",
      "Epoch 0007  Training Loss 2.52 Validation Loss 1.85 Training Accuracy 39.34 Validation Accuracy 40.85\n",
      "Epoch 0008  Training Loss 2.55 Validation Loss 2.37 Training Accuracy 38.48 Validation Accuracy 32.98\n",
      "Epoch 0009  Training Loss 2.56 Validation Loss 2.05 Training Accuracy 38.53 Validation Accuracy 31.88\n",
      "Epoch 0010  Training Loss 2.57 Validation Loss 2.34 Training Accuracy 38.47 Validation Accuracy 31.88\n",
      "Epoch 0011  Training Loss 2.48 Validation Loss 2.47 Training Accuracy 38.98 Validation Accuracy 28.60\n",
      "Epoch 0012  Training Loss 2.60 Validation Loss 2.34 Training Accuracy 38.65 Validation Accuracy 29.25\n",
      "Epoch 0013  Training Loss 2.55 Validation Loss 1.99 Training Accuracy 39.40 Validation Accuracy 35.70\n",
      "Epoch 0014  Training Loss 2.54 Validation Loss 2.52 Training Accuracy 38.54 Validation Accuracy 30.43\n",
      "Epoch 0015  Training Loss 2.50 Validation Loss 4.20 Training Accuracy 38.43 Validation Accuracy 25.10\n",
      "Epoch 0016  Training Loss 2.53 Validation Loss 3.54 Training Accuracy 38.19 Validation Accuracy 27.97\n",
      "Epoch 0017  Training Loss 2.73 Validation Loss 2.24 Training Accuracy 37.80 Validation Accuracy 32.25\n"
     ]
    }
   ],
   "source": [
    "train_acc_1, val_acc_1 = train_1()"
   ]
  },
  {
   "cell_type": "code",
   "execution_count": null,
   "metadata": {},
   "outputs": [],
   "source": [
    "print(np.max(train_acc_1), np.where(train_acc_1 == np.max(train_acc_1))[0])\n",
    "print(np.max(val_acc_1), np.where(val_acc_1 == np.max(val_acc_1))[0])"
   ]
  },
  {
   "cell_type": "code",
   "execution_count": null,
   "metadata": {},
   "outputs": [],
   "source": [
    "train_acc_2, val_acc_2 = train_2()"
   ]
  },
  {
   "cell_type": "code",
   "execution_count": null,
   "metadata": {},
   "outputs": [],
   "source": [
    "print(np.max(train_acc_2), np.where(train_acc_2 == np.max(train_acc_2))[0])\n",
    "print(np.max(val_acc_2), np.where(val_acc_2 == np.max(val_acc_2))[0])"
   ]
  },
  {
   "cell_type": "code",
   "execution_count": null,
   "metadata": {},
   "outputs": [],
   "source": [
    "def eval_test_acc_1(EPOCHS = 20, BATCH = 32, LEARNING_RATE = 0.01):\n",
    "    test_acc_epoch = []\n",
    "    for epoch in range(EPOCHS):\n",
    "        test_acc = 0    \n",
    "\n",
    "        # shuffle the examples prior to training to remove correlation \n",
    "        test_indices = np.arange(len(X_test)) \n",
    "        np.random.shuffle(test_indices)\n",
    "        for it in range(0, X_test.shape[0], BATCH):\n",
    "            batch = test_indices[it:it+BATCH]\n",
    "            test_prediction = predict_1(X_test[batch]).argmax(1)\n",
    "            test_acc += (np.array(test_prediction).flatten() == Y_test[batch]).sum()\n",
    "        test_acc_epoch.append(test_acc/X_test.shape[0])\n",
    "    return test_acc_epoch\n",
    "\n",
    "def eval_test_acc_2(EPOCHS = 20, BATCH = 32, LEARNING_RATE = 0.001):\n",
    "    test_acc_epoch = []\n",
    "    for epoch in range(EPOCHS):\n",
    "        test_acc = 0    \n",
    "\n",
    "        # shuffle the examples prior to training to remove correlation \n",
    "        test_indices = np.arange(len(X_test)) \n",
    "        np.random.shuffle(test_indices)\n",
    "        for it in range(0, X_test.shape[0], BATCH):\n",
    "            batch = test_indices[it:it+BATCH]\n",
    "            test_prediction = predict_2(X_test[batch]).argmax(1)\n",
    "            test_acc += (np.array(test_prediction).flatten() == Y_test[batch]).sum()\n",
    "        test_acc_epoch.append(test_acc/X_test.shape[0])\n",
    "    return test_acc_epoch"
   ]
  },
  {
   "cell_type": "markdown",
   "metadata": {},
   "source": [
    "## 2. (1 point) Select your final model and report its test accuracy."
   ]
  },
  {
   "cell_type": "markdown",
   "metadata": {},
   "source": [
    "as we increase the kernel size the accuracy was getting worse.\n",
    "thus our final model with highest accuracy is train_P_3_2 with 82% accuracy."
   ]
  }
 ],
 "metadata": {
  "accelerator": "GPU",
  "colab": {
   "collapsed_sections": [],
   "name": "Copy of Introduction to ML - Fall 2021 - Prof. Papernot - Assignment 4 handout",
   "provenance": []
  },
  "kernelspec": {
   "display_name": "Python 3",
   "language": "python",
   "name": "python3"
  },
  "language_info": {
   "codemirror_mode": {
    "name": "ipython",
    "version": 3
   },
   "file_extension": ".py",
   "mimetype": "text/x-python",
   "name": "python",
   "nbconvert_exporter": "python",
   "pygments_lexer": "ipython3",
   "version": "3.8.8"
  }
 },
 "nbformat": 4,
 "nbformat_minor": 1
}
